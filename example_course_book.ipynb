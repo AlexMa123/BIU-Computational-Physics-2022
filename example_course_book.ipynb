{
  "nbformat": 4,
  "nbformat_minor": 0,
  "metadata": {
    "colab": {
      "name": "example course book.ipynb",
      "provenance": [],
      "collapsed_sections": [],
      "toc_visible": true,
      "authorship_tag": "ABX9TyNqw09T0LIo+rvyi89mBVV/",
      "include_colab_link": true
    },
    "kernelspec": {
      "name": "python3",
      "display_name": "Python 3"
    },
    "language_info": {
      "name": "python"
    }
  },
  "cells": [
    {
      "cell_type": "markdown",
      "metadata": {
        "id": "view-in-github",
        "colab_type": "text"
      },
      "source": [
        "<a href=\"https://colab.research.google.com/github/AlexMa123/BIU-Computational-Physics-2022/blob/main/example_course_book.ipynb\" target=\"_parent\"><img src=\"https://colab.research.google.com/assets/colab-badge.svg\" alt=\"Open In Colab\"/></a>"
      ]
    },
    {
      "cell_type": "markdown",
      "source": [
        "# Lecture 1: Fractal\n",
        "\n",
        "[Fractal](https://en.wikipedia.org/wiki/Fractal)\n",
        "\n",
        "Euclidian geometry cannot describe complex structures in Nature, since it deals with simple shapes and forms such as straight lines, triangles, circles and so on. However, nature doesn't have such simple structures.\n",
        "\n",
        "|![example of fractals](https://www.researchgate.net/publication/340926663/figure/fig1/AS:941847388110856@1601565324876/Examples-of-fractal-a-Examples-of-mathematical-fractals-Bovill-1996-b-Examples-of.png)|\n",
        "|:-:|\n",
        "|Fig1.1: example of fractals|\n",
        "\n",
        "Hence, \"fractal geometry\" is needed.\n",
        "\n",
        "\n",
        "> A fractal is an object or quantity that displays self-similarity, in a somewhat technical sense, on all scales. The object need not exhibit exactly the same structure at all scales, but the same \"type\" of structures must appear on all scales. A plot of the quantity on a log-log graph versus scale then gives a straight line, whose slope is said to be the fractal dimension. The prototypical example for a fractal is the length of a coastline measured with different length rulers.\n",
        "\n"
      ],
      "metadata": {
        "id": "HETwhlqPeDRW"
      }
    },
    {
      "cell_type": "markdown",
      "source": [
        "\n",
        "## Review  "
      ],
      "metadata": {
        "id": "imh8w8HDf_VD"
      }
    },
    {
      "cell_type": "markdown",
      "source": [
        "### Self-similarity and scale invariance\n",
        "A most important property of fractals is their [self-similarity](https://en.wikipedia.org/wiki/Self-similarity). Self-similarity means the object looks \"roughly\" the same on any scale. Note the meain difference between regular Euclidean space and fractal geometries: whereas regular space is symmetric under translation, in fractals this symmetry is violated. Instead, fractals possess a new symmetry, called scale invarience.\n",
        "\n",
        "|![Self-similarity](https://i.imgur.com/YHRsUQC.gif)|\n",
        "|:--:| \n",
        "|*Fig 1.2.1 Self-similarity in the Mandelbrot set shown by zooming in on the Feigenbaum point*|\n",
        "\n",
        "|![scale-invariance](https://upload.wikimedia.org/wikipedia/commons/2/2a/Wiener_process_animated.gif)|\n",
        "|:--:|\n",
        "|*Fig 1.2.2 The Wiener process (a stochastic process) is scale-invariant.*|\n",
        "\n",
        "In physics, mathematics and statistics, scale invariance is a feature of objects or laws that do not change if scales of length, energy, or other variables, are multiplied by a common factor, and thus represent a universality.\n",
        "\n",
        "In mathematics, it means after changing the scale of a system, the new measurement only has to times a factor on the old measurment:\n",
        "$$M(bL) = b^\\Delta M(L)$$\n",
        "where M measure of the system, whose mathematical form is unchanged under any different scales.\n",
        "\n",
        "Examples:\n",
        "* area of a square: $S(l) \\sim l^2$\n",
        "* mean-square displacement of a random walk: $\\left<r^2(t)\\right> \\sim t^{2/d_w}$, where $d_w=2$ for regular diffusion.\n",
        "* ..."
      ],
      "metadata": {
        "id": "9-HoKpb-3IuE"
      }
    },
    {
      "cell_type": "markdown",
      "source": [
        "### Example of Fractals\n",
        "There are two types of fractals: `deterministic` and `random`\n",
        "\n",
        "#### Deterministic fractals\n",
        " use fixed geometric replacement rules\n",
        "* also: \"ideal fractals\" (such as the fractals in Fig 1.1 (a), and Fig 1.2.1)\n",
        "* show self-similarity (every small part of the picture when magnified properly looks as the whole picture, shown in FIg 1.2.1)\n",
        "\n",
        "#### Random fractals\n",
        "use stochastic rules (such as Fig 1.2.2)\n"
      ],
      "metadata": {
        "id": "OvAlwKqq3Dbu"
      }
    },
    {
      "cell_type": "markdown",
      "source": [
        "### Fractal dimensions\n",
        "![Euclidean dimension](https://www.vanderbilt.edu/AnS/psychology/cogsci/chaos/workshop/Hausdorff.GIF)\n",
        "\n",
        "\n"
      ],
      "metadata": {
        "id": "eJ9tsis63Pc5"
      }
    },
    {
      "cell_type": "markdown",
      "source": [
        "\n",
        "#### Analytical method\n",
        "If we take an object residing in Euclidean dimension D and reduce its linear size by $\\delta = 1/r$ in each spatial direction, its measure (length, area, or volume) would increase to $N=r^D$ times the original. The dimension for the object is $D = \\log{N} / \\log{r}$.\n",
        "\n",
        "So the dimensions for line, square and cubic are 1, 2, 3"
      ],
      "metadata": {
        "id": "eofzPDIfT5XN"
      }
    },
    {
      "cell_type": "markdown",
      "source": [
        "#### Numerical method\n",
        "Box counting method:\n",
        "\n",
        "![Box counting](https://ars.els-cdn.com/content/image/1-s2.0-S016786551730288X-gr1.jpg)\n",
        "\n"
      ],
      "metadata": {
        "id": "Vfq2-felT_2P"
      }
    },
    {
      "cell_type": "code",
      "source": [
        ""
      ],
      "metadata": {
        "id": "LeMoSv_WgEYI"
      },
      "execution_count": null,
      "outputs": []
    },
    {
      "cell_type": "markdown",
      "source": [
        "## Exercise"
      ],
      "metadata": {
        "id": "ECqRSPKSfI0X"
      }
    },
    {
      "cell_type": "markdown",
      "source": [
        "#### Question 1 Koch Curve and Dragon fractal\n"
      ],
      "metadata": {
        "id": "GJ6u-VOsa2Ao"
      }
    },
    {
      "cell_type": "code",
      "source": [
        ""
      ],
      "metadata": {
        "id": "bV7ro6kYedDd"
      },
      "execution_count": null,
      "outputs": []
    },
    {
      "cell_type": "markdown",
      "source": [
        "#### Question 2 Implement Box counting algrothm"
      ],
      "metadata": {
        "id": "d4JFrACCbCpW"
      }
    },
    {
      "cell_type": "code",
      "source": [
        ""
      ],
      "metadata": {
        "id": "tSYhfH7HbNKd"
      },
      "execution_count": null,
      "outputs": []
    }
  ]
}