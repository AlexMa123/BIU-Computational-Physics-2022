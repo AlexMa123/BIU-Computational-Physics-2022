{
 "cells": [
  {
   "cell_type": "markdown",
   "metadata": {
    "colab_type": "text",
    "id": "view-in-github"
   },
   "source": [
    "<a href=\"https://colab.research.google.com/github/AlexMa123/BIU-Computational-Physics-2022/blob/main/example_course_book.ipynb\" target=\"_parent\"><img src=\"https://colab.research.google.com/assets/colab-badge.svg\" alt=\"Open In Colab\"/></a>"
   ]
  },
  {
   "cell_type": "markdown",
   "metadata": {
    "id": "HETwhlqPeDRW"
   },
   "source": [
    "# Lecture 1: Fractal\n",
    "\n",
    "[Fractal](https://en.wikipedia.org/wiki/Fractal)\n",
    "\n",
    "Euclidian geometry cannot describe complex structures in Nature, since it deals with simple shapes and forms such as straight lines, triangles, circles and so on. However, nature doesn't have such simple structures.\n",
    "\n",
    "|![example of fractals](https://www.researchgate.net/publication/340926663/figure/fig1/AS:941847388110856@1601565324876/Examples-of-fractal-a-Examples-of-mathematical-fractals-Bovill-1996-b-Examples-of.png)|\n",
    "|:-:|\n",
    "|*Fig1.1: example of fractals*|\n",
    "\n",
    "Hence, \"fractal geometry\" is needed.\n",
    "\n",
    "\n",
    "> A fractal is an object or quantity that displays self-similarity, in a somewhat technical sense, on all scales. The object need not exhibit exactly the same structure at all scales, but the same \"type\" of structures must appear on all scales. A plot of the quantity on a log-log graph versus scale then gives a straight line, whose slope is said to be the fractal dimension. The prototypical example for a fractal is the length of a coastline measured with different length rulers.\n",
    "\n"
   ]
  },
  {
   "cell_type": "markdown",
   "metadata": {
    "id": "imh8w8HDf_VD"
   },
   "source": [
    "\n",
    "## Review  "
   ]
  },
  {
   "cell_type": "markdown",
   "metadata": {
    "id": "9-HoKpb-3IuE"
   },
   "source": [
    "### Self-similarity and scale invariance\n",
    "A most important property of fractals is their [self-similarity](https://en.wikipedia.org/wiki/Self-similarity). Self-similarity means the object looks \"roughly\" the same on any scale. Note the meain difference between regular Euclidean space and fractal geometries: whereas regular space is symmetric under translation, in fractals this symmetry is violated. Instead, fractals possess a new symmetry, called scale invarience.\n",
    "\n",
    "|![Self-similarity](https://i.imgur.com/YHRsUQC.gif)|\n",
    "|:--:| \n",
    "|*Fig 1.2.1 Self-similarity in the Mandelbrot set shown by zooming in on the Feigenbaum point*|\n",
    "\n",
    "|![scale-invariance](https://upload.wikimedia.org/wikipedia/commons/2/2a/Wiener_process_animated.gif)|\n",
    "|:--:|\n",
    "|*Fig 1.2.2 The Wiener process (a stochastic process) is scale-invariant.*|\n",
    "\n",
    "In physics, mathematics and statistics, scale invariance is a feature of objects or laws that do not change if scales of length, energy, or other variables, are multiplied by a common factor, and thus represent a universality.\n",
    "\n",
    "In mathematics, it means after changing the scale of a system, the new measurement only has to times a factor on the old measurment:\n",
    "$$M(bL) = b^\\Delta M(L)$$\n",
    "where M measure of the system, whose mathematical form is unchanged under any different scales.\n",
    "\n",
    "Examples:\n",
    "* area of a square: $S(l) \\sim l^2$\n",
    "* mean-square displacement of a random walk: $\\left<r^2(t)\\right> \\sim t^{2/d_w}$, where $d_w=2$ for regular diffusion.\n",
    "* ..."
   ]
  },
  {
   "cell_type": "markdown",
   "metadata": {
    "id": "OvAlwKqq3Dbu"
   },
   "source": [
    "### Example of Fractals\n",
    "There are two types of fractals: `deterministic` and `random`\n",
    "\n",
    "#### Deterministic fractals\n",
    " use fixed geometric replacement rules\n",
    "* also: \"ideal fractals\" (such as the fractals in Fig 1.1 (a), and Fig 1.2.1)\n",
    "* show self-similarity (every small part of the picture when magnified properly looks as the whole picture, shown in FIg 1.2.1)\n",
    "\n",
    "#### Random fractals\n",
    "use stochastic rules (such as Fig 1.2.2)\n"
   ]
  },
  {
   "cell_type": "markdown",
   "metadata": {
    "id": "eJ9tsis63Pc5"
   },
   "source": [
    "### Fractal dimensions\n",
    "![Euclidean dimension](https://www.vanderbilt.edu/AnS/psychology/cogsci/chaos/workshop/Hausdorff.GIF)\n",
    "\n",
    "\n"
   ]
  },
  {
   "cell_type": "markdown",
   "metadata": {
    "id": "eofzPDIfT5XN"
   },
   "source": [
    "\n",
    "#### Analytical method\n",
    "If we take an object residing in Euclidean dimension D and reduce its linear size by $\\delta = 1/r$ in each spatial direction, its measure (length, area, or volume) would increase to $N=r^D$ times the original. The dimension for the object is $D = \\log{N} / \\log{r}$.\n",
    "\n",
    "So the dimensions for line, square and cubic are 1, 2, 3"
   ]
  },
  {
   "cell_type": "markdown",
   "metadata": {
    "id": "Vfq2-felT_2P"
   },
   "source": [
    "#### Numerical method\n",
    "Box counting method:\n",
    "\n",
    "\n",
    "\n",
    "The box counting algorithm counts how many sites (N) are visited by the fractal under different box scale $\\delta$. \n",
    "\n",
    "$$N(\\delta) = (\\frac{1}{\\delta})^{D} N(1)$$\n",
    "\n",
    "$$\\log{N} = - D \\log{\\delta} + \\log{N(1)}$$\n",
    "\n",
    "With a linear fit, you can find out the fractal dimension\n",
    "\n",
    "|![Box counting](https://www.researchgate.net/profile/Iasef-Md-Rian/publication/271197420/figure/fig8/AS:295198295904264@1447392166530/Calculation-of-Box-Counting-dimension-of-Koch-curve-using-the-Fractalyse-program-a.png)|\n",
    "|:-:|\n",
    "|*Example of box counting algorithm. Note: In this figure, N is the box scale, and S is the number of sites visited by the fractal*|\n",
    "\n"
   ]
  },
  {
   "cell_type": "code",
   "execution_count": null,
   "metadata": {
    "id": "LeMoSv_WgEYI"
   },
   "outputs": [],
   "source": []
  },
  {
   "cell_type": "markdown",
   "metadata": {
    "id": "ECqRSPKSfI0X"
   },
   "source": [
    "## Exercise"
   ]
  },
  {
   "cell_type": "markdown",
   "metadata": {
    "id": "GJ6u-VOsa2Ao"
   },
   "source": [
    "#### Question 1 Koch Curve and Dragon fractal\n"
   ]
  },
  {
   "cell_type": "code",
   "execution_count": null,
   "metadata": {
    "id": "bV7ro6kYedDd"
   },
   "outputs": [],
   "source": []
  },
  {
   "cell_type": "markdown",
   "metadata": {
    "id": "d4JFrACCbCpW"
   },
   "source": [
    "#### Question 2 Implement Box counting algrothm"
   ]
  },
  {
   "cell_type": "code",
   "execution_count": null,
   "metadata": {
    "id": "tSYhfH7HbNKd"
   },
   "outputs": [],
   "source": []
  }
 ],
 "metadata": {
  "colab": {
   "authorship_tag": "ABX9TyMIzmVgwJrp3ALAaHhUJHav",
   "collapsed_sections": [],
   "include_colab_link": true,
   "name": "example course book.ipynb",
   "provenance": [],
   "toc_visible": true
  },
  "kernelspec": {
   "display_name": "Python 3",
   "language": "python",
   "name": "python3"
  },
  "language_info": {
   "codemirror_mode": {
    "name": "ipython",
    "version": 3
   },
   "file_extension": ".py",
   "mimetype": "text/x-python",
   "name": "python",
   "nbconvert_exporter": "python",
   "pygments_lexer": "ipython3",
   "version": "3.8.5"
  }
 },
 "nbformat": 4,
 "nbformat_minor": 1
}
