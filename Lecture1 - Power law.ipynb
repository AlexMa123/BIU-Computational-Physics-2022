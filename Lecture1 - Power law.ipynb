{
 "cells": [
  {
   "cell_type": "markdown",
   "metadata": {
    "colab_type": "text",
    "id": "view-in-github"
   },
   "source": [
    "<a href=\"https://colab.research.google.com/github/AlexMa123/Computational-physics-2022/blob/main/notebook/Lecture1%20-%20Power%20law.ipynb\" target=\"_parent\"><img src=\"https://colab.research.google.com/assets/colab-badge.svg\" alt=\"Open In Colab\"/></a>"
   ]
  },
  {
   "cell_type": "markdown",
   "metadata": {
    "id": "hTlwCLuex6VA"
   },
   "source": [
    "# Power law"
   ]
  },
  {
   "cell_type": "markdown",
   "metadata": {
    "id": "RAeDliCkx6VC"
   },
   "source": [
    "## Review:\n",
    "### Power law distribution\n",
    "* Special kind of probability distribution\n",
    "$$P(x) = C x^{-\\alpha}\\quad \\text{for} \\quad x \\geqslant x_{min} > 0$$\n",
    "\n",
    "where C is a normalization constant makes $\\int_{x_{min}}^{\\infty} P(x) dx = 1$.\n",
    "\n",
    "With the help of `sympy` (symbolic python, similiar with symbolic toolbox in matlab), we can find out the value of C"
   ]
  },
  {
   "cell_type": "code",
   "execution_count": 1,
   "metadata": {
    "colab": {
     "base_uri": "https://localhost:8080/",
     "height": 38
    },
    "id": "iosYfKRbx6VD",
    "outputId": "a7d4c5af-407e-4f64-ae3b-48a0814c811c"
   },
   "outputs": [
    {
     "data": {
      "text/latex": [
       "$\\displaystyle C x^{- \\alpha}$"
      ],
      "text/plain": [
       "C*x**(-alpha)"
      ]
     },
     "execution_count": 1,
     "metadata": {},
     "output_type": "execute_result"
    }
   ],
   "source": [
    "import sympy\n",
    "x, C, alpha, xmin = sympy.symbols('x C alpha x_{min}', positive=True)\n",
    "P = C * x ** (-alpha)\n",
    "P"
   ]
  },
  {
   "cell_type": "code",
   "execution_count": 2,
   "metadata": {
    "colab": {
     "base_uri": "https://localhost:8080/",
     "height": 88
    },
    "id": "WF2-89mYx6VF",
    "outputId": "9b18a13c-a286-43a2-ed40-780ef363d0cf"
   },
   "outputs": [
    {
     "data": {
      "text/latex": [
       "$\\displaystyle \\begin{cases} \\frac{C x_{min} x_{min}^{- \\alpha}}{\\alpha - 1} & \\text{for}\\: \\alpha > 1 \\\\\\int\\limits_{x_{min}}^{\\infty} C x^{- \\alpha}\\, dx & \\text{otherwise} \\end{cases}$"
      ],
      "text/plain": [
       "Piecewise((C*x_{min}*x_{min}**(-alpha)/(alpha - 1), alpha > 1), (Integral(C*x**(-alpha), (x, x_{min}, oo)), True))"
      ]
     },
     "execution_count": 2,
     "metadata": {},
     "output_type": "execute_result"
    }
   ],
   "source": [
    "integral_result = sympy.integrate(P, (x, xmin, sympy.oo)) # oo refers to infinity\n",
    "integral_result"
   ]
  },
  {
   "cell_type": "markdown",
   "metadata": {
    "id": "Gk_TznJDx6VF"
   },
   "source": [
    "the result shows when $\\alpha > 1$, the integral is $\\frac{C x_{min}^{1-\\alpha}}{\\alpha - 1}$, otherwise, this integral is diverge."
   ]
  },
  {
   "cell_type": "code",
   "execution_count": 3,
   "metadata": {
    "colab": {
     "base_uri": "https://localhost:8080/",
     "height": 56
    },
    "id": "1hCXGuSYx6VG",
    "outputId": "e6435b12-e128-47d4-ecd6-6adb481ce94f"
   },
   "outputs": [
    {
     "data": {
      "text/latex": [
       "$\\displaystyle \\frac{C x_{min}^{1 - \\alpha}}{\\alpha - 1}$"
      ],
      "text/plain": [
       "C*x_{min}**(1 - alpha)/(alpha - 1)"
      ]
     },
     "execution_count": 3,
     "metadata": {},
     "output_type": "execute_result"
    }
   ],
   "source": [
    "integral_result = integral_result.args[0][0] # get the integral for alpha > 1\n",
    "sympy.simplify(integral_result)"
   ]
  },
  {
   "cell_type": "code",
   "execution_count": 4,
   "metadata": {
    "colab": {
     "base_uri": "https://localhost:8080/",
     "height": 38
    },
    "id": "mjAM-pm5x6VG",
    "outputId": "8121e437-8282-43ed-fd2a-73ef2fe34265"
   },
   "outputs": [
    {
     "data": {
      "text/latex": [
       "$\\displaystyle x_{min}^{\\alpha - 1} \\left(\\alpha - 1\\right)$"
      ],
      "text/plain": [
       "x_{min}**(alpha - 1)*(alpha - 1)"
      ]
     },
     "execution_count": 4,
     "metadata": {},
     "output_type": "execute_result"
    }
   ],
   "source": [
    "solution = sympy.solve(integral_result - 1, C)[0] # solve the equation, integral_result - 1 = 0\n",
    "solution"
   ]
  },
  {
   "cell_type": "code",
   "execution_count": 5,
   "metadata": {
    "colab": {
     "base_uri": "https://localhost:8080/",
     "height": 38
    },
    "id": "sQp87xEnx6VH",
    "outputId": "434c0342-490f-4d96-998b-2ff38e325b44"
   },
   "outputs": [
    {
     "data": {
      "text/latex": [
       "$\\displaystyle x^{- \\alpha} x_{min}^{\\alpha - 1} \\left(\\alpha - 1\\right)$"
      ],
      "text/plain": [
       "x**(-alpha)*x_{min}**(alpha - 1)*(alpha - 1)"
      ]
     },
     "execution_count": 5,
     "metadata": {},
     "output_type": "execute_result"
    }
   ],
   "source": [
    "P = P.subs(C, solution)\n",
    "P = sympy.simplify(P)\n",
    "P"
   ]
  },
  {
   "cell_type": "markdown",
   "metadata": {
    "id": "XKWR-TAbx6VH"
   },
   "source": [
    "Finally, we find out $C = (\\alpha-1)/x_{min}^{1-\\alpha}$"
   ]
  },
  {
   "cell_type": "markdown",
   "metadata": {
    "id": "ygdWjcY_x6VI"
   },
   "source": [
    "### Moments\n",
    "\n",
    "The n-th moment of a distribution is : $\\left< x^k \\right> = \\int_{x_{min}}^{\\infty} x^k P(x) dx$"
   ]
  },
  {
   "cell_type": "code",
   "execution_count": 6,
   "metadata": {
    "colab": {
     "base_uri": "https://localhost:8080/",
     "height": 88
    },
    "id": "uVrdwX7Px6VI",
    "outputId": "da3f8013-fe48-431b-f9f4-45df426aa797"
   },
   "outputs": [
    {
     "data": {
      "text/latex": [
       "$\\displaystyle \\begin{cases} \\frac{x_{min}^{k} \\left(1 - \\alpha\\right)}{- \\alpha + k + 1} & \\text{for}\\: \\alpha - k > 1 \\\\x_{min}^{\\alpha - 1} \\left(\\alpha - 1\\right) \\int\\limits_{x_{min}}^{\\infty} x^{- \\alpha + k}\\, dx & \\text{otherwise} \\end{cases}$"
      ],
      "text/plain": [
       "Piecewise((x_{min}**k*(1 - alpha)/(-alpha + k + 1), alpha - k > 1), (x_{min}**(alpha - 1)*(alpha - 1)*Integral(x**(-alpha + k), (x, x_{min}, oo)), True))"
      ]
     },
     "execution_count": 6,
     "metadata": {},
     "output_type": "execute_result"
    }
   ],
   "source": [
    "k = sympy.Symbol('k', positive=True)\n",
    "moments_k = sympy.integrate(P * x ** k, (x, xmin, sympy.oo))\n",
    "sympy.simplify(moments_k)"
   ]
  },
  {
   "cell_type": "markdown",
   "metadata": {
    "id": "Q4fk7URIx6VI"
   },
   "source": [
    "$$\\left< x^k \\right> = x^k_{min}\\frac{\\alpha-1}{\\alpha-k-1} \\quad \\text{for} \\quad \\alpha > 1 + k$$\n",
    "otherwise\n",
    "$$\\left< x^k \\right> \\quad \\text{diverge}$$"
   ]
  },
  {
   "cell_type": "markdown",
   "metadata": {
    "id": "L8pdXpGfx6VJ"
   },
   "source": [
    "### Visualize the powerlaw distribution\n",
    "It's convenient to visualize the powerlaw in log-log scale, as\n",
    "\n",
    "$$\\log{P(x)} = -\\alpha \\log{x} + \\log{C}$$\n",
    "Using log-log plot, powerlaw will become a straight  line with sloop equal to $-\\alpha$"
   ]
  },
  {
   "cell_type": "markdown",
   "metadata": {
    "id": "YZCZm2wix6VJ"
   },
   "source": [
    "#### From the formula"
   ]
  },
  {
   "cell_type": "code",
   "execution_count": 7,
   "metadata": {
    "id": "tBvGL6tRx6VJ"
   },
   "outputs": [],
   "source": [
    "import numpy as np\n",
    "import matplotlib.pyplot as plt\n",
    "\n",
    "def powerlaw(x, alpha, xmin=1):\n",
    "    assert x.min() >= xmin, f'the minimum x should larger than {xmin}'\n",
    "    C = xmin ** (alpha-1) * (alpha - 1)\n",
    "    return C * x** (- alpha)"
   ]
  },
  {
   "cell_type": "code",
   "execution_count": 8,
   "metadata": {
    "colab": {
     "base_uri": "https://localhost:8080/",
     "height": 286
    },
    "id": "3sy7iRDqx6VK",
    "outputId": "ae6de62b-4c01-4d1f-d908-bd9215f86909"
   },
   "outputs": [
    {
     "data": {
      "text/plain": [
       "<matplotlib.legend.Legend at 0x2a2faf89f70>"
      ]
     },
     "execution_count": 8,
     "metadata": {},
     "output_type": "execute_result"
    },
    {
     "data": {
      "image/png": "[encoded data removed]",
      "text/plain": [
       "<Figure size 432x288 with 1 Axes>"
      ]
     },
     "metadata": {
      "needs_background": "light"
     },
     "output_type": "display_data"
    }
   ],
   "source": [
    "xx = np.linspace(1, 10**4, 100)\n",
    "plt.plot(xx, powerlaw(xx, 1.5), label=r\"$\\alpha$=1.5\")\n",
    "plt.plot(xx, powerlaw(xx, 2.5), label=r\"$\\alpha$=2.5\")\n",
    "plt.xscale('log')\n",
    "plt.yscale('log')\n",
    "plt.legend()"
   ]
  },
  {
   "cell_type": "markdown",
   "metadata": {
    "id": "55ifjvDyx6VK"
   },
   "source": [
    "#### From random numbers\n",
    "\n",
    "In scipy.stats module, there is a class: [pareto](https://docs.scipy.org/doc/scipy/reference/generated/scipy.stats.pareto.html#scipy.stats.pareto) to generate Pareto continuous random variable.\n",
    "\n",
    "> Pareto Distribution: $$P(x, b) = \\frac{b}{x^{b+1}}$$ where $x \\geqslant 1$ and $b>0$"
   ]
  },
  {
   "cell_type": "code",
   "execution_count": 33,
   "metadata": {
    "id": "L8GhCCbNx6VL"
   },
   "outputs": [],
   "source": [
    "from scipy.stats import pareto\n",
    "b = 0.5 # equivalent to alpha = 1.5\n",
    "r = pareto.rvs(b, size=10000) # generate 10000 random numbers from pareto distribution"
   ]
  },
  {
   "cell_type": "markdown",
   "metadata": {
    "id": "ovpyBea3x6VL"
   },
   "source": [
    "Once we have the random numbers, we can compute the histogram of them by using [numpy.histogram](https://numpy.org/doc/stable/reference/generated/numpy.histogram.html)"
   ]
  },
  {
   "cell_type": "code",
   "execution_count": 34,
   "metadata": {
    "colab": {
     "base_uri": "https://localhost:8080/",
     "height": 285
    },
    "id": "YpzNo9iYx6VM",
    "outputId": "3d0103a5-bf23-40ff-e91a-a541af37d2c9"
   },
   "outputs": [
    {
     "data": {
      "image/png": "[encoded data removed]",
      "text/plain": [
       "<Figure size 432x288 with 1 Axes>"
      ]
     },
     "metadata": {
      "needs_background": "light"
     },
     "output_type": "display_data"
    }
   ],
   "source": [
    "hist, bin_edges = np.histogram(r, bins=100, range=(1, 10000), density=True) \n",
    "# with density=True the result is the value of the probability density function at the bin\n",
    "bin_center = (bin_edges[1:] + bin_edges[:-1]) / 2\n",
    "plt.plot(bin_center, hist, label='histogram')\n",
    "plt.plot(bin_center, powerlaw(bin_center, 1.5), label=\"power law function\")\n",
    "plt.title(\"histogram with linear bins\")\n",
    "plt.legend()\n",
    "plt.xscale('log')\n",
    "plt.yscale('log')"
   ]
  },
  {
   "cell_type": "markdown",
   "metadata": {
    "id": "x3LN4fsPx6VM"
   },
   "source": [
    "The distribution is noisy in the right-hand end of the distribution because of sampling errors. \n",
    "The power-law distribution dwindles in this region, meaning that each bin only has a few samples in it. So the fractional fluctuations in the bin counts are large and this appears as a noisy curve on the plot.\n",
    "One way to deal with this is to vary the width of the bins in the histogram. The most common choice is to create bins such that each is a fixed multiple wider the one before it. This is known as `logarithmic binning`."
   ]
  },
  {
   "cell_type": "code",
   "execution_count": 35,
   "metadata": {},
   "outputs": [
    {
     "data": {
      "text/plain": [
       "array([0.        , 0.76752836, 1.53505673, 2.30258509, 3.07011346,\n",
       "       3.83764182, 4.60517019, 5.37269855, 6.14022691, 6.90775528])"
      ]
     },
     "execution_count": 35,
     "metadata": {},
     "output_type": "execute_result"
    }
   ],
   "source": [
    "b = np.logspace(0, 3, 10)\n",
    "np.log(b)"
   ]
  },
  {
   "cell_type": "code",
   "execution_count": 36,
   "metadata": {
    "colab": {
     "base_uri": "https://localhost:8080/",
     "height": 285
    },
    "id": "7Moec200x6VN",
    "outputId": "fef29292-7079-4297-af03-2d90251930a9"
   },
   "outputs": [
    {
     "data": {
      "image/png": "[encoded data removed]",
      "text/plain": [
       "<Figure size 432x288 with 1 Axes>"
      ]
     },
     "metadata": {
      "needs_background": "light"
     },
     "output_type": "display_data"
    }
   ],
   "source": [
    "hist, bin_edges = np.histogram(r, bins=np.logspace(0, 4, 100), density=True) \n",
    "# with density=True the result is the value of the probability density function at the bin\n",
    "bin_center = (bin_edges[1:] + bin_edges[:-1]) / 2\n",
    "plt.plot(bin_center, hist, label='histogram')\n",
    "plt.plot(bin_center, powerlaw(bin_center, 1.5), label=\"power law function\")\n",
    "plt.title(\"histogram with 'logarithmic binning'\")\n",
    "plt.legend()\n",
    "plt.xscale('log')\n",
    "plt.yscale('log')"
   ]
  },
  {
   "cell_type": "markdown",
   "metadata": {
    "id": "mE5a3NfJx6VN"
   },
   "source": [
    "## Fit a power law distribution\n",
    "\n",
    "### polynomial fit\n",
    "The simplest way to fit a histogram of power-law distribution is by using a straight line, in other words, fit the relation between log y and log x by a 1 order polynomial."
   ]
  },
  {
   "cell_type": "code",
   "execution_count": 37,
   "metadata": {},
   "outputs": [
    {
     "data": {
      "text/plain": [
       "array([-1.51609694, -0.64788474])"
      ]
     },
     "execution_count": 37,
     "metadata": {},
     "output_type": "execute_result"
    }
   ],
   "source": [
    "p = np.polyfit(np.log(bin_center), np.log(hist), deg=1)\n",
    "p"
   ]
  },
  {
   "cell_type": "code",
   "execution_count": 44,
   "metadata": {},
   "outputs": [
    {
     "data": {
      "text/plain": [
       "<matplotlib.legend.Legend at 0x2a29ab9ffa0>"
      ]
     },
     "execution_count": 44,
     "metadata": {},
     "output_type": "execute_result"
    },
    {
     "data": {
      "image/png": "[encoded data removed]",
      "text/plain": [
       "<Figure size 432x288 with 1 Axes>"
      ]
     },
     "metadata": {
      "needs_background": "light"
     },
     "output_type": "display_data"
    }
   ],
   "source": [
    "plt.plot(np.log(bin_center), np.log(hist), label='histogram')\n",
    "plt.plot(np.log(bin_center), np.log(bin_center) * p[0] + p[1], label=\"fitting curve\")\n",
    "plt.legend()"
   ]
  },
  {
   "cell_type": "markdown",
   "metadata": {},
   "source": [
    "# Maximum likelihood Estimation (MLE)"
   ]
  },
  {
   "cell_type": "markdown",
   "metadata": {},
   "source": [
    "The simplest way to fit a Pareto distribution by MLE is using pareto.fit() directly"
   ]
  },
  {
   "cell_type": "code",
   "execution_count": 28,
   "metadata": {
    "colab": {
     "base_uri": "https://localhost:8080/"
    },
    "id": "s-c_ng-bx6VO",
    "outputId": "396ce99a-dc39-4cf1-8008-9d0fd7c7686f"
   },
   "outputs": [
    {
     "name": "stderr",
     "output_type": "stream",
     "text": [
      "C:\\Users\\45805\\Anaconda3\\lib\\site-packages\\scipy\\stats\\_distn_infrastructure.py:2429: RuntimeWarning: invalid value encountered in double_scalars\n",
      "  Lhat = muhat - Shat*mu\n"
     ]
    },
    {
     "data": {
      "text/plain": [
       "0.49707031249999956"
      ]
     },
     "execution_count": 28,
     "metadata": {},
     "output_type": "execute_result"
    }
   ],
   "source": [
    "b, loc, scale = pareto.fit(r, floc=0, fscale=1)\n",
    "b"
   ]
  },
  {
   "cell_type": "markdown",
   "metadata": {
    "id": "yU-Eu6z3x6VO"
   },
   "source": [
    "In the module scipy.stats, this `fit` function uses Maximum Likelihood Estimation (MLE) as its default estimation method.\n",
    "\n",
    "[Maximum likelihood Estimation](https://en.wikipedia.org/wiki/Maximum_likelihood_estimation) is achieved by maximizing the conditional probability: $L(\\theta | y)$, where $\\theta$ is the parameter we want to estimate, and y is our observation values. This probability is called likelihood function. In other words, this method is going to find out the most likely $\\theta$ under the condition that we have the measurements ${y_1, y_2, y_3, ... y_n}$\n",
    "\n",
    "$$L(\\theta|y) = \\prod_n P(y_n; \\theta)$$\n",
    "\n",
    "To find out the maximum value, it's often convenient to work with the natural logarithm of the likelihood function, called log-likelihood:\n",
    "$$l(\\theta|y) = \\sum_n \\log{ P(y_n; \\theta)}$$\n",
    "Then solve the equation:\n",
    "$$\\frac{\\partial l}{\\partial \\theta}=0$$\n",
    "\n",
    "So for Power law distribution:\n",
    "$$P(x; b) = C x^{-\\alpha}$$\n",
    "where $C=(\\alpha-1)/x_{min}^{1-\\alpha}$"
   ]
  },
  {
   "cell_type": "code",
   "execution_count": null,
   "metadata": {
    "colab": {
     "base_uri": "https://localhost:8080/",
     "height": 67
    },
    "id": "YjGSw6C0x6VO",
    "outputId": "17329a56-a922-4e1f-9573-2f54282e740e"
   },
   "outputs": [
    {
     "data": {
      "text/latex": [
       "$\\displaystyle \\sum_{i=1}^{n} \\log{\\left(x_{min}^{\\alpha - 1} \\left(\\alpha - 1\\right) {y}_{i}^{- \\alpha} \\right)}$"
      ],
      "text/plain": [
       "Sum(log(x_{min}**(alpha - 1)*(alpha - 1)*y[i]**(-alpha)), (i, 1, n))"
      ]
     },
     "execution_count": 13,
     "metadata": {},
     "output_type": "execute_result"
    }
   ],
   "source": [
    "y = sympy.IndexedBase('y', positive=True)\n",
    "i, n, b = sympy.symbols('i n b', positive=True)\n",
    "P = P.subs(x, y[i])\n",
    "log_L = sympy.Sum(sympy.log(P), (i, 1, n)) # l = sum of log(P(x))\n",
    "log_L"
   ]
  },
  {
   "cell_type": "code",
   "execution_count": null,
   "metadata": {
    "colab": {
     "base_uri": "https://localhost:8080/",
     "height": 67
    },
    "id": "iXUnMhCCx6VP",
    "outputId": "2687bf26-9eb5-4874-be70-1bb11faec407"
   },
   "outputs": [
    {
     "data": {
      "text/latex": [
       "$\\displaystyle \\sum_{i=1}^{n} \\frac{x_{min}^{1 - \\alpha} \\left(x_{min}^{\\alpha - 1} \\left(\\alpha - 1\\right) \\log{\\left(x_{min} \\right)} {y}_{i}^{- \\alpha} - x_{min}^{\\alpha - 1} \\left(\\alpha - 1\\right) \\log{\\left({y}_{i} \\right)} {y}_{i}^{- \\alpha} + x_{min}^{\\alpha - 1} {y}_{i}^{- \\alpha}\\right) {y}_{i}^{\\alpha}}{\\alpha - 1}$"
      ],
      "text/plain": [
       "Sum(x_{min}**(1 - alpha)*(x_{min}**(alpha - 1)*(alpha - 1)*log(x_{min})*y[i]**(-alpha) - x_{min}**(alpha - 1)*(alpha - 1)*log(y[i])*y[i]**(-alpha) + x_{min}**(alpha - 1)*y[i]**(-alpha))*y[i]**alpha/(alpha - 1), (i, 1, n))"
      ]
     },
     "execution_count": 15,
     "metadata": {},
     "output_type": "execute_result"
    }
   ],
   "source": [
    "dldb = log_L.diff(alpha)\n",
    "dldb"
   ]
  },
  {
   "cell_type": "code",
   "execution_count": null,
   "metadata": {
    "colab": {
     "base_uri": "https://localhost:8080/",
     "height": 67
    },
    "id": "ZwoUKwBJx6VP",
    "outputId": "da75ea38-2b7e-4075-c650-662c774a45d8"
   },
   "outputs": [
    {
     "data": {
      "text/latex": [
       "$\\displaystyle n \\left(\\alpha - 1\\right) \\log{\\left(x_{min} \\right)} + n + \\left(1 - \\alpha\\right) \\sum_{i=1}^{n} \\log{\\left({y}_{i} \\right)}$"
      ],
      "text/plain": [
       "n*(alpha - 1)*log(x_{min}) + n + (1 - alpha)*Sum(log(y[i]), (i, 1, n))"
      ]
     },
     "execution_count": 16,
     "metadata": {},
     "output_type": "execute_result"
    }
   ],
   "source": [
    "dldb = log_L.diff(alpha)\n",
    "dldb = sympy.simplify(dldb * (alpha-1))\n",
    "dldb"
   ]
  },
  {
   "cell_type": "markdown",
   "metadata": {
    "id": "JTbrnp-dx6VP"
   },
   "source": [
    "So:\n",
    "$$\\frac{\\partial l}{\\partial b}=0$$\n",
    "$$n(\\alpha-1)\\log{x_{min}}+n+(1-\\alpha)\\sum_i \\log{y_i} = 0$$"
   ]
  },
  {
   "cell_type": "code",
   "execution_count": null,
   "metadata": {
    "colab": {
     "base_uri": "https://localhost:8080/",
     "height": 59
    },
    "id": "iF7XXWwMx6VQ",
    "outputId": "f6769118-d82e-4975-e868-b6982b6d3da4"
   },
   "outputs": [
    {
     "data": {
      "text/latex": [
       "$\\displaystyle \\frac{n \\log{\\left(x_{min} \\right)} - n - \\sum_{i=1}^{n} \\log{\\left({y}_{i} \\right)}}{n \\log{\\left(x_{min} \\right)} - \\sum_{i=1}^{n} \\log{\\left({y}_{i} \\right)}}$"
      ],
      "text/plain": [
       "(n*log(x_{min}) - n - Sum(log(y[i]), (i, 1, n)))/(n*log(x_{min}) - Sum(log(y[i]), (i, 1, n)))"
      ]
     },
     "execution_count": 17,
     "metadata": {},
     "output_type": "execute_result"
    }
   ],
   "source": [
    "sympy.solve(dldb, alpha)[0]"
   ]
  },
  {
   "cell_type": "markdown",
   "metadata": {
    "id": "LXlDNVOqx6VQ"
   },
   "source": [
    "Finally we get:\n",
    "$$\\alpha = \\frac{n\\log{x_{min}-n-\\sum_i\\log{y_i}}}{n\\log{x_{min}-\\sum_i \\log{y_i}}} = 1 + \\frac{n}{\\sum_i\\log{y_i}-n\\log{x_{min}}}$$"
   ]
  },
  {
   "cell_type": "markdown",
   "metadata": {},
   "source": [
    "With maximum likelihood, we can get Akaike information criterion (AIC), which is an estimator of prediction error and thereby relative quality of statistical models for a given set of data."
   ]
  },
  {
   "cell_type": "markdown",
   "metadata": {
    "id": "tT9xTf2G18kv"
   },
   "source": [
    "Scale theory"
   ]
  },
  {
   "cell_type": "markdown",
   "metadata": {
    "id": "Haqql8wvx6VQ"
   },
   "source": [
    "## Exercise 01\n",
    " ***1.\tSummarize what you have learned about power laws in 1-2 paragraphs in your coursebook “Power-Laws”.***"
   ]
  },
  {
   "cell_type": "code",
   "execution_count": null,
   "metadata": {
    "id": "MViR7EHdx6VY"
   },
   "outputs": [],
   "source": []
  },
  {
   "cell_type": "markdown",
   "metadata": {
    "id": "FE6ge8wpx6VY"
   },
   "source": [
    "***2.Reproduce all three figures on slide 8 using $\\alpha$=1.6,2.2 and 3.1.***\n",
    "> generate random numbers by using scipy.stats.pareto.rvs(b, size)\n",
    "\n",
    "> make a log-log plot\n",
    "\n",
    "> If first and/or second moments exist, draw the theoretical value as dashed line."
   ]
  },
  {
   "cell_type": "code",
   "execution_count": 46,
   "metadata": {
    "id": "rB_m0apox6VY"
   },
   "outputs": [
    {
     "data": {
      "image/png": "[encoded data removed]",
      "text/plain": [
       "<Figure size 432x288 with 1 Axes>"
      ]
     },
     "metadata": {
      "needs_background": "light"
     },
     "output_type": "display_data"
    }
   ],
   "source": []
  },
  {
   "cell_type": "markdown",
   "metadata": {
    "id": "VE8GkflYx6VZ"
   },
   "source": [
    "***3.Reproduce Zipf’s law; apply maximum likelihood estimation to determine the power-law exponent***\n",
    "\n",
    "> compare your maximum likelihood estimation result with pareto.fit"
   ]
  },
  {
   "cell_type": "code",
   "execution_count": null,
   "metadata": {
    "id": "_7ivA4mUx6VZ"
   },
   "outputs": [],
   "source": []
  }
 ],
 "metadata": {
  "colab": {
   "include_colab_link": true,
   "name": "Lecture1 - Power law.ipynb",
   "provenance": []
  },
  "kernelspec": {
   "display_name": "Python 3",
   "language": "python",
   "name": "python3"
  },
  "language_info": {
   "codemirror_mode": {
    "name": "ipython",
    "version": 3
   },
   "file_extension": ".py",
   "mimetype": "text/x-python",
   "name": "python",
   "nbconvert_exporter": "python",
   "pygments_lexer": "ipython3",
   "version": "3.8.5"
  }
 },
 "nbformat": 4,
 "nbformat_minor": 4
}
