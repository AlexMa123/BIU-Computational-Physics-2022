{
  "cells": [
    {
      "cell_type": "markdown",
      "metadata": {
        "id": "view-in-github",
        "colab_type": "text"
      },
      "source": [
        "<a href=\"https://colab.research.google.com/github/AlexMa123/Computational-physics-2022/blob/main/notebook/Lecture0%20-%20Introduction.ipynb\" target=\"_parent\"><img src=\"https://colab.research.google.com/assets/colab-badge.svg\" alt=\"Open In Colab\"/></a>"
      ]
    },
    {
      "cell_type": "markdown",
      "metadata": {
        "id": "kvfzcTFHDDDq"
      },
      "source": [
        "# Introduction to Python"
      ]
    },
    {
      "cell_type": "markdown",
      "metadata": {
        "id": "klgBnP2_DDDs"
      },
      "source": [
        "## Introduction to Python\n",
        "\n",
        "* python is an interpreted programming language\n",
        "* object-oriented\n",
        "* General purpose language (web, scientific computation, data analysis, artificial intelligence, and so on)\n",
        "* dynamically-typed\n",
        "* human readable\n",
        "* tons of third-party extensions\n",
        "* free, open source"
      ]
    },
    {
      "cell_type": "code",
      "execution_count": 1,
      "metadata": {
        "id": "EVoyrqQxDDDt",
        "outputId": "9d740f2f-e8c7-4ed4-c053-8cdc6049bcae",
        "colab": {
          "base_uri": "https://localhost:8080/"
        }
      },
      "outputs": [
        {
          "output_type": "stream",
          "name": "stdout",
          "text": [
            "The Zen of Python, by Tim Peters\n",
            "\n",
            "Beautiful is better than ugly.\n",
            "Explicit is better than implicit.\n",
            "Simple is better than complex.\n",
            "Complex is better than complicated.\n",
            "Flat is better than nested.\n",
            "Sparse is better than dense.\n",
            "Readability counts.\n",
            "Special cases aren't special enough to break the rules.\n",
            "Although practicality beats purity.\n",
            "Errors should never pass silently.\n",
            "Unless explicitly silenced.\n",
            "In the face of ambiguity, refuse the temptation to guess.\n",
            "There should be one-- and preferably only one --obvious way to do it.\n",
            "Although that way may not be obvious at first unless you're Dutch.\n",
            "Now is better than never.\n",
            "Although never is often better than *right* now.\n",
            "If the implementation is hard to explain, it's a bad idea.\n",
            "If the implementation is easy to explain, it may be a good idea.\n",
            "Namespaces are one honking great idea -- let's do more of those!\n"
          ]
        }
      ],
      "source": [
        "import this"
      ]
    },
    {
      "cell_type": "markdown",
      "metadata": {
        "id": "LL4zqgyaDDDv"
      },
      "source": [
        "### Data types"
      ]
    },
    {
      "cell_type": "code",
      "execution_count": 2,
      "metadata": {
        "id": "uBHid1BhDDDv"
      },
      "outputs": [],
      "source": [
        "True, False # boolean\n",
        "\n",
        "1, 2, 3 # int\n",
        "\n",
        "1.0, 2.0, 3.0 # double\n",
        "\n",
        "1 + 2j # complex\n",
        "\n",
        "\"Hello world\" # strings\n",
        "\n",
        "None # None"
      ]
    },
    {
      "cell_type": "markdown",
      "metadata": {
        "id": "yx0oT234DDDw"
      },
      "source": [
        "### Operators\n",
        "\n",
        "#### Arithmetic"
      ]
    },
    {
      "cell_type": "code",
      "execution_count": 3,
      "metadata": {
        "id": "75HgKvo3DDDw",
        "outputId": "b79d8a67-fe0f-42ac-a6f7-a17e384fc0c9",
        "colab": {
          "base_uri": "https://localhost:8080/"
        }
      },
      "outputs": [
        {
          "output_type": "execute_result",
          "data": {
            "text/plain": [
              "8"
            ]
          },
          "metadata": {},
          "execution_count": 3
        }
      ],
      "source": [
        "2 ** 3 # 2^3"
      ]
    },
    {
      "cell_type": "code",
      "execution_count": 4,
      "metadata": {
        "id": "NF67tg16DDDx",
        "outputId": "4fb1db9e-9eac-4362-e1b2-798f54b197a9",
        "colab": {
          "base_uri": "https://localhost:8080/"
        }
      },
      "outputs": [
        {
          "output_type": "execute_result",
          "data": {
            "text/plain": [
              "3.6666666666666665"
            ]
          },
          "metadata": {},
          "execution_count": 4
        }
      ],
      "source": [
        "11 / 3"
      ]
    },
    {
      "cell_type": "code",
      "execution_count": 5,
      "metadata": {
        "id": "OaT1B5zdDDDy",
        "outputId": "457a2512-9246-4bd8-ffd4-ef58e9f25463",
        "colab": {
          "base_uri": "https://localhost:8080/"
        }
      },
      "outputs": [
        {
          "output_type": "execute_result",
          "data": {
            "text/plain": [
              "3"
            ]
          },
          "metadata": {},
          "execution_count": 5
        }
      ],
      "source": [
        "11 // 3 # integer part"
      ]
    },
    {
      "cell_type": "code",
      "execution_count": 6,
      "metadata": {
        "id": "zLUJLL9BDDDz",
        "outputId": "a726ee6f-efe4-478f-b7d7-5cc7dbfc2ac8",
        "colab": {
          "base_uri": "https://localhost:8080/"
        }
      },
      "outputs": [
        {
          "output_type": "execute_result",
          "data": {
            "text/plain": [
              "2"
            ]
          },
          "metadata": {},
          "execution_count": 6
        }
      ],
      "source": [
        "11 % 3 # 11 mod 3"
      ]
    },
    {
      "cell_type": "markdown",
      "metadata": {
        "id": "lcIIlgDSDDDz"
      },
      "source": [
        "#### Logical"
      ]
    },
    {
      "cell_type": "code",
      "execution_count": 7,
      "metadata": {
        "id": "lrZ45i86DDD0",
        "outputId": "b09522ee-537d-4bac-bd08-02fb3b5a4e37",
        "colab": {
          "base_uri": "https://localhost:8080/"
        }
      },
      "outputs": [
        {
          "output_type": "execute_result",
          "data": {
            "text/plain": [
              "False"
            ]
          },
          "metadata": {},
          "execution_count": 7
        }
      ],
      "source": [
        "True and False"
      ]
    },
    {
      "cell_type": "code",
      "execution_count": 8,
      "metadata": {
        "id": "bFwy2mRNDDD0",
        "outputId": "7fe72391-94a4-4a72-f562-3d8c10ac0887",
        "colab": {
          "base_uri": "https://localhost:8080/"
        }
      },
      "outputs": [
        {
          "output_type": "execute_result",
          "data": {
            "text/plain": [
              "True"
            ]
          },
          "metadata": {},
          "execution_count": 8
        }
      ],
      "source": [
        "True or False"
      ]
    },
    {
      "cell_type": "code",
      "execution_count": 9,
      "metadata": {
        "id": "PKMKCOBHDDD1",
        "outputId": "1ac66333-912f-43a3-93ab-e90e735132ef",
        "colab": {
          "base_uri": "https://localhost:8080/"
        }
      },
      "outputs": [
        {
          "output_type": "execute_result",
          "data": {
            "text/plain": [
              "False"
            ]
          },
          "metadata": {},
          "execution_count": 9
        }
      ],
      "source": [
        "not True"
      ]
    },
    {
      "cell_type": "code",
      "execution_count": 10,
      "metadata": {
        "id": "KjDMV6RLDDD1",
        "outputId": "9562170b-93ea-448c-ad38-94c21f8f7bb2",
        "colab": {
          "base_uri": "https://localhost:8080/"
        }
      },
      "outputs": [
        {
          "output_type": "execute_result",
          "data": {
            "text/plain": [
              "(True, True, False, True)"
            ]
          },
          "metadata": {},
          "execution_count": 10
        }
      ],
      "source": [
        "2 == 2, 2 < 3, 2 >= 3, 2 < 3 < 4"
      ]
    },
    {
      "cell_type": "code",
      "execution_count": 11,
      "metadata": {
        "id": "h-Nv7i5LDDD2",
        "outputId": "9544bbb2-523e-40c6-86de-d371e1da6eb7",
        "colab": {
          "base_uri": "https://localhost:8080/"
        }
      },
      "outputs": [
        {
          "output_type": "execute_result",
          "data": {
            "text/plain": [
              "True"
            ]
          },
          "metadata": {},
          "execution_count": 11
        }
      ],
      "source": [
        "None is None"
      ]
    },
    {
      "cell_type": "markdown",
      "metadata": {
        "id": "WpSixGQKDDD2"
      },
      "source": [
        "> a == b checks whether a and b have the same value\n",
        "\n",
        "> a is b checks whether a and b points to the same memory"
      ]
    },
    {
      "cell_type": "markdown",
      "metadata": {
        "id": "3lpmxlqmDDD2"
      },
      "source": [
        "#### Membership"
      ]
    },
    {
      "cell_type": "code",
      "execution_count": 12,
      "metadata": {
        "id": "9WZTF7n9DDD3",
        "outputId": "c5b9e969-d87e-45af-80c2-3850d47f1563",
        "colab": {
          "base_uri": "https://localhost:8080/"
        }
      },
      "outputs": [
        {
          "output_type": "execute_result",
          "data": {
            "text/plain": [
              "True"
            ]
          },
          "metadata": {},
          "execution_count": 12
        }
      ],
      "source": [
        "1 in [1, 2, 3, 4]"
      ]
    },
    {
      "cell_type": "code",
      "execution_count": 13,
      "metadata": {
        "id": "QWqKPuCfDDD3",
        "outputId": "0d1beb81-6686-42bc-acfe-16b05c74f316",
        "colab": {
          "base_uri": "https://localhost:8080/"
        }
      },
      "outputs": [
        {
          "output_type": "execute_result",
          "data": {
            "text/plain": [
              "True"
            ]
          },
          "metadata": {},
          "execution_count": 13
        }
      ],
      "source": [
        "'hello' in 'hello world'"
      ]
    },
    {
      "cell_type": "markdown",
      "metadata": {
        "id": "WSOCxmb5DDD4"
      },
      "source": [
        "### Collections"
      ]
    },
    {
      "cell_type": "markdown",
      "metadata": {
        "id": "jdf3TOCuDDD4"
      },
      "source": [
        "#### List\n",
        "> Note: in python, index start from 0"
      ]
    },
    {
      "cell_type": "code",
      "execution_count": 14,
      "metadata": {
        "id": "i9gAaIoRDDD4",
        "outputId": "26710170-f80d-4115-f884-e9295a142cd1",
        "colab": {
          "base_uri": "https://localhost:8080/"
        }
      },
      "outputs": [
        {
          "output_type": "execute_result",
          "data": {
            "text/plain": [
              "(1, 4)"
            ]
          },
          "metadata": {},
          "execution_count": 14
        }
      ],
      "source": [
        "x = [1, 2, 3, 4]\n",
        "x[0], x[-1] # -1 means the end of the list"
      ]
    },
    {
      "cell_type": "code",
      "execution_count": 15,
      "metadata": {
        "id": "vxBldb7sDDD5",
        "outputId": "93952ba5-7389-4013-e3e8-4647dc78f538",
        "colab": {
          "base_uri": "https://localhost:8080/"
        }
      },
      "outputs": [
        {
          "output_type": "execute_result",
          "data": {
            "text/plain": [
              "[1, 2, 3, 100]"
            ]
          },
          "metadata": {},
          "execution_count": 15
        }
      ],
      "source": [
        "x[-1] = 100\n",
        "x # List is mutable"
      ]
    },
    {
      "cell_type": "code",
      "execution_count": 16,
      "metadata": {
        "id": "Y6dh3VKmDDD5",
        "outputId": "29a38568-3177-40d3-b381-5fc9b4a59666",
        "colab": {
          "base_uri": "https://localhost:8080/"
        }
      },
      "outputs": [
        {
          "output_type": "execute_result",
          "data": {
            "text/plain": [
              "[1, 2, 3, 'a']"
            ]
          },
          "metadata": {},
          "execution_count": 16
        }
      ],
      "source": [
        "x[-1] = 'a'\n",
        "x # List can save different data with different types"
      ]
    },
    {
      "cell_type": "code",
      "execution_count": 17,
      "metadata": {
        "id": "dsePLuO_DDD5",
        "outputId": "cb0d3d09-29ce-41a7-d01c-159f3d4659d3",
        "colab": {
          "base_uri": "https://localhost:8080/"
        }
      },
      "outputs": [
        {
          "output_type": "execute_result",
          "data": {
            "text/plain": [
              "[1, 2, 3, 'a', 10]"
            ]
          },
          "metadata": {},
          "execution_count": 17
        }
      ],
      "source": [
        "x.append(10)\n",
        "x"
      ]
    },
    {
      "cell_type": "markdown",
      "metadata": {
        "id": "Fq-xE5HsDDD6"
      },
      "source": [
        "### Tuples"
      ]
    },
    {
      "cell_type": "code",
      "execution_count": 18,
      "metadata": {
        "id": "gL8fA-C9DDD6",
        "outputId": "3b8a64d7-da22-4a08-a6ec-7113d03cf781",
        "colab": {
          "base_uri": "https://localhost:8080/"
        }
      },
      "outputs": [
        {
          "output_type": "execute_result",
          "data": {
            "text/plain": [
              "(1, 3)"
            ]
          },
          "metadata": {},
          "execution_count": 18
        }
      ],
      "source": [
        "x = (1, 2, 3)\n",
        "x[0], x[-1]"
      ]
    },
    {
      "cell_type": "code",
      "execution_count": 19,
      "metadata": {
        "id": "N-4fZF7NDDD6",
        "outputId": "d0657f5a-bdbf-4a12-cf00-5a141fc2015f",
        "colab": {
          "base_uri": "https://localhost:8080/",
          "height": 165
        }
      },
      "outputs": [
        {
          "output_type": "error",
          "ename": "TypeError",
          "evalue": "ignored",
          "traceback": [
            "\u001b[0;31m---------------------------------------------------------------------------\u001b[0m",
            "\u001b[0;31mTypeError\u001b[0m                                 Traceback (most recent call last)",
            "\u001b[0;32m<ipython-input-19-7c6674c3da4b>\u001b[0m in \u001b[0;36m<module>\u001b[0;34m()\u001b[0m\n\u001b[0;32m----> 1\u001b[0;31m \u001b[0mx\u001b[0m\u001b[0;34m[\u001b[0m\u001b[0;34m-\u001b[0m\u001b[0;36m1\u001b[0m\u001b[0;34m]\u001b[0m \u001b[0;34m=\u001b[0m \u001b[0;36m10\u001b[0m \u001b[0;31m# Tuple is immutable\u001b[0m\u001b[0;34m\u001b[0m\u001b[0;34m\u001b[0m\u001b[0m\n\u001b[0m",
            "\u001b[0;31mTypeError\u001b[0m: 'tuple' object does not support item assignment"
          ]
        }
      ],
      "source": [
        "x[-1] = 10 # Tuple is immutable"
      ]
    },
    {
      "cell_type": "markdown",
      "metadata": {
        "id": "0QuA9jw2DDD6"
      },
      "source": [
        "#### Sets"
      ]
    },
    {
      "cell_type": "code",
      "execution_count": 20,
      "metadata": {
        "id": "ZYtDQ-G4DDD6",
        "outputId": "bd151d44-af20-43b5-ea32-03f7c518de90",
        "colab": {
          "base_uri": "https://localhost:8080/"
        }
      },
      "outputs": [
        {
          "output_type": "execute_result",
          "data": {
            "text/plain": [
              "{1, 2, 3, 4}"
            ]
          },
          "metadata": {},
          "execution_count": 20
        }
      ],
      "source": [
        "x = [1, 3, 4, 1, 2, 3, 1, 1, 2]\n",
        "set(x)"
      ]
    },
    {
      "cell_type": "markdown",
      "metadata": {
        "id": "mZoYC-GpDDD7"
      },
      "source": [
        "#### Dictionaries"
      ]
    },
    {
      "cell_type": "code",
      "execution_count": 21,
      "metadata": {
        "id": "wIBfiBUhDDD7",
        "outputId": "6c73a470-109c-48ca-ea18-4f6e330d1c9f",
        "colab": {
          "base_uri": "https://localhost:8080/"
        }
      },
      "outputs": [
        {
          "output_type": "execute_result",
          "data": {
            "text/plain": [
              "[1, 2, 3]"
            ]
          },
          "metadata": {},
          "execution_count": 21
        }
      ],
      "source": [
        "x = {'a': 1, 'b':[1, 2, 3], 'c': 10}\n",
        "x['b']"
      ]
    },
    {
      "cell_type": "code",
      "execution_count": 22,
      "metadata": {
        "id": "lDxeO4aSDDD7",
        "outputId": "a8475604-7ec2-44fc-9be5-46220c22f032",
        "colab": {
          "base_uri": "https://localhost:8080/"
        }
      },
      "outputs": [
        {
          "output_type": "execute_result",
          "data": {
            "text/plain": [
              "1"
            ]
          },
          "metadata": {},
          "execution_count": 22
        }
      ],
      "source": [
        "x['a']"
      ]
    },
    {
      "cell_type": "markdown",
      "metadata": {
        "id": "x4qsT3J6DDD7"
      },
      "source": [
        "### Functions"
      ]
    },
    {
      "cell_type": "code",
      "execution_count": 23,
      "metadata": {
        "id": "CglbgegWDDD8"
      },
      "outputs": [],
      "source": [
        "def f_add(a, b):\n",
        "    \"\"\"\n",
        "    This is Docstring for function f_add\n",
        "    compute a + b\n",
        "    \"\"\"\n",
        "    return a + b"
      ]
    },
    {
      "cell_type": "code",
      "execution_count": 24,
      "metadata": {
        "id": "isyfLwMtDDD8",
        "outputId": "46df1a03-87d1-428a-9f96-5add2c5055c1",
        "colab": {
          "base_uri": "https://localhost:8080/"
        }
      },
      "outputs": [
        {
          "output_type": "execute_result",
          "data": {
            "text/plain": [
              "5"
            ]
          },
          "metadata": {},
          "execution_count": 24
        }
      ],
      "source": [
        "f_add(2, 3)"
      ]
    },
    {
      "cell_type": "code",
      "execution_count": 25,
      "metadata": {
        "id": "pVIObqQlDDD8",
        "outputId": "deeaa616-1a3b-43af-e8b3-6b03abff45ef",
        "colab": {
          "base_uri": "https://localhost:8080/"
        }
      },
      "outputs": [
        {
          "output_type": "stream",
          "name": "stdout",
          "text": [
            "Help on function f_add in module __main__:\n",
            "\n",
            "f_add(a, b)\n",
            "    This is Docstring for function f_add\n",
            "    compute a + b\n",
            "\n"
          ]
        }
      ],
      "source": [
        "help(f_add) # use help to print the docstring"
      ]
    },
    {
      "cell_type": "code",
      "execution_count": 26,
      "metadata": {
        "id": "befrDhN3DDD9"
      },
      "outputs": [],
      "source": [
        "?f_add"
      ]
    },
    {
      "cell_type": "code",
      "execution_count": 27,
      "metadata": {
        "id": "AeLEKe42DDD9",
        "outputId": "5dfdb92f-7d93-435f-842b-8e9c2b6e7e8e",
        "colab": {
          "base_uri": "https://localhost:8080/",
          "height": 35
        }
      },
      "outputs": [
        {
          "output_type": "execute_result",
          "data": {
            "application/vnd.google.colaboratory.intrinsic+json": {
              "type": "string"
            },
            "text/plain": [
              "'hello world'"
            ]
          },
          "metadata": {},
          "execution_count": 27
        }
      ],
      "source": [
        "f_add(\"hello \", 'world')"
      ]
    },
    {
      "cell_type": "markdown",
      "metadata": {
        "id": "bcA-DYz1DDD9"
      },
      "source": [
        "### Control flow and loop\n",
        "\n",
        "#### if-elif-else\n",
        "```python\n",
        "if condition:\n",
        "    statements\n",
        "elif condition:\n",
        "    statements\n",
        "else:\n",
        "    statements\n",
        "```\n",
        "Note, in Matlab you use `end` to end a control flow, function or loop, but ***python treats the statements that have the same indentation level as a single block of code***\n",
        "\n",
        "Unlike indentation in other languages is just for readability, indentation is a very important concept in python"
      ]
    },
    {
      "cell_type": "code",
      "execution_count": 28,
      "metadata": {
        "id": "zeEcUywUDDD9",
        "outputId": "38c15ccc-fd4f-4b46-a696-c5cbf6f7c68c",
        "colab": {
          "base_uri": "https://localhost:8080/"
        }
      },
      "outputs": [
        {
          "output_type": "stream",
          "name": "stdout",
          "text": [
            "a is larger than 10\n"
          ]
        }
      ],
      "source": [
        "a = 22\n",
        "if a > 10:\n",
        "    print('a is larger than 10')\n",
        "elif 5 < a <= 10:\n",
        "    print('a is larger than 5 but not larger than 10')\n",
        "# You can also add other elif blocks\n",
        "else:\n",
        "    print('a is not larger than 5')"
      ]
    },
    {
      "cell_type": "markdown",
      "metadata": {
        "id": "maZy9OL3DDD-"
      },
      "source": [
        "#### while loop\n",
        "```python\n",
        "while condition:\n",
        "    statements\n",
        "```"
      ]
    },
    {
      "cell_type": "code",
      "execution_count": 29,
      "metadata": {
        "id": "77LPl8HSDDD-",
        "outputId": "395330ec-3434-46fe-b882-548c7cb68caa",
        "colab": {
          "base_uri": "https://localhost:8080/"
        }
      },
      "outputs": [
        {
          "output_type": "stream",
          "name": "stdout",
          "text": [
            "3628800\n"
          ]
        }
      ],
      "source": [
        "# use while loop to calculate 10!\n",
        "i = 1\n",
        "result = 1\n",
        "while i <= 10:\n",
        "    result = result * i\n",
        "    i = i + 1\n",
        "print(result)"
      ]
    },
    {
      "cell_type": "markdown",
      "metadata": {
        "id": "pXnYSsGuDDD-"
      },
      "source": [
        "#### for loop\n",
        "for loop is used for iterating over a iterable object (like list, tuple, dictionary, set, string and so on)\n",
        "```python\n",
        "for object in iterator:\n",
        "    statements\n",
        "```\n"
      ]
    },
    {
      "cell_type": "code",
      "execution_count": 30,
      "metadata": {
        "id": "K-AeHTb6DDD-",
        "outputId": "b605b361-ed3c-46c9-be1b-371bc66d2ecb",
        "colab": {
          "base_uri": "https://localhost:8080/"
        }
      },
      "outputs": [
        {
          "output_type": "execute_result",
          "data": {
            "text/plain": [
              "3628800"
            ]
          },
          "metadata": {},
          "execution_count": 30
        }
      ],
      "source": [
        "# use for loop to calculate 10!\n",
        "result = 1\n",
        "for i in range(1, 11):\n",
        "    result = result * i\n",
        "result"
      ]
    },
    {
      "cell_type": "code",
      "execution_count": 31,
      "metadata": {
        "id": "jDMj8J_HDDD_",
        "outputId": "1f4c47af-d4d7-4b55-d874-e0b53e04e655",
        "colab": {
          "base_uri": "https://localhost:8080/"
        }
      },
      "outputs": [
        {
          "output_type": "execute_result",
          "data": {
            "text/plain": [
              "[1, 2, 3, 4, 5, 6, 7, 8, 9, 10]"
            ]
          },
          "metadata": {},
          "execution_count": 31
        }
      ],
      "source": [
        "list(range(1, 11)) # start from 1 and end at 11 - 1"
      ]
    },
    {
      "cell_type": "code",
      "execution_count": 32,
      "metadata": {
        "id": "k9AISRaADDD_",
        "outputId": "dfddbac2-fd13-4b99-9d2c-c625bff0a728",
        "colab": {
          "base_uri": "https://localhost:8080/"
        }
      },
      "outputs": [
        {
          "output_type": "stream",
          "name": "stdout",
          "text": [
            "0 a\n",
            "1 b\n",
            "2 c\n"
          ]
        }
      ],
      "source": [
        "for i, value in enumerate(['a', 'b', 'c']):\n",
        "    print(i, value)"
      ]
    },
    {
      "cell_type": "code",
      "execution_count": 33,
      "metadata": {
        "id": "0tAC_1F-DDD_",
        "outputId": "8230df83-069c-40fb-c0f4-bf9c3c3ed328",
        "colab": {
          "base_uri": "https://localhost:8080/"
        }
      },
      "outputs": [
        {
          "output_type": "stream",
          "name": "stdout",
          "text": [
            "1 2\n",
            "2 3\n",
            "4 5\n"
          ]
        }
      ],
      "source": [
        "for a, b in [(1, 2), (2, 3), (4, 5)]:\n",
        "    print(a, b)"
      ]
    },
    {
      "cell_type": "markdown",
      "metadata": {
        "id": "s7e6lzWXDDEA"
      },
      "source": [
        "### Packages and namespace"
      ]
    },
    {
      "cell_type": "code",
      "execution_count": 34,
      "metadata": {
        "id": "YjR1lVN-DDEA",
        "outputId": "40577b92-8e0f-4d5e-e0a1-9c66633e949a",
        "colab": {
          "base_uri": "https://localhost:8080/"
        }
      },
      "outputs": [
        {
          "output_type": "stream",
          "name": "stdout",
          "text": [
            "Writing foo.py\n"
          ]
        }
      ],
      "source": [
        "%%file foo.py\n",
        "# save a file called foo.py, and there is a function inside this file\n",
        "def say_hi(name):\n",
        "    print(\"Hi!\", name)"
      ]
    },
    {
      "cell_type": "code",
      "execution_count": 35,
      "metadata": {
        "id": "7DhfuGopDDEA",
        "outputId": "33f9d7e0-8695-4e4f-9364-5ab2057cd0e9",
        "colab": {
          "base_uri": "https://localhost:8080/"
        }
      },
      "outputs": [
        {
          "output_type": "stream",
          "name": "stdout",
          "text": [
            "Hi! Alex\n"
          ]
        }
      ],
      "source": [
        "import foo # like #include<foo.h> in C/C++\n",
        "foo.say_hi(\"Alex\") # use a function called say_hi from the file foo.py"
      ]
    },
    {
      "cell_type": "code",
      "execution_count": 36,
      "metadata": {
        "id": "GIcnVrQbDDEB",
        "outputId": "29e645c9-2a4b-4450-cb7d-74f34d024d92",
        "colab": {
          "base_uri": "https://localhost:8080/"
        }
      },
      "outputs": [
        {
          "output_type": "stream",
          "name": "stdout",
          "text": [
            "Hi! Alex\n"
          ]
        }
      ],
      "source": [
        "from foo import say_hi\n",
        "say_hi(\"Alex\")"
      ]
    },
    {
      "cell_type": "markdown",
      "metadata": {
        "id": "gKirSV1wDDEB"
      },
      "source": [
        "### Third-party packages\n",
        "![python package](https://jupytearth.org/_images/python-stack.png)"
      ]
    },
    {
      "cell_type": "markdown",
      "metadata": {
        "id": "u9kLik5pDDEB"
      },
      "source": [
        "For scientific computation:\n",
        "* numpy: support for large, multidimensional arrays and matrices, along with a large collection of high-level mathematical functions to operate on arrays.\n",
        "* scipy: fundamental algorithms for scientific computing\n",
        "> including special functions, integration, optimization, interpolation, fourier transforms, signal processing, Linear Algebra, statistics and so on\n",
        "\n",
        "* sympy: symbolic mathematics\n",
        "* NetworkX: a Python package for the creation, manipulation, and study of the structure, dynamics, and functions of complex networks.\n",
        "\n",
        "For visualization\n",
        "* matplotlib: plotting library with a similar API with MATLAB\n",
        "* Seaborn: a Python data visualization library based on matplotlib. It provides a high-level interface for drawing attractive and informative statistical graphics.\n",
        "* Plotly: Python graphing library makes interactive, publication-quality graphs"
      ]
    },
    {
      "cell_type": "code",
      "execution_count": 37,
      "metadata": {
        "id": "mbJcdq3UDDEC",
        "outputId": "dd5dc864-afc4-410e-8782-a74f09af0d12",
        "colab": {
          "base_uri": "https://localhost:8080/",
          "height": 282
        }
      },
      "outputs": [
        {
          "output_type": "execute_result",
          "data": {
            "text/plain": [
              "[<matplotlib.lines.Line2D at 0x7f0727ac5c10>]"
            ]
          },
          "metadata": {},
          "execution_count": 37
        },
        {
          "output_type": "display_data",
          "data": {
            "image/png": "[encoded data removed]",
            "text/plain": [
              "<Figure size 432x288 with 1 Axes>"
            ]
          },
          "metadata": {
            "needs_background": "light"
          }
        }
      ],
      "source": [
        "# example of numpy\n",
        "import numpy as np\n",
        "import matplotlib.pyplot as plt # use plt to refer to matplotlib.pyplot\n",
        "\n",
        "x = np.linspace(0, 10, 100) # an array include 100 numbers start from 0 and end at 10.\n",
        "y = np.exp(x)\n",
        "\n",
        "plt.plot(x, y)\n"
      ]
    },
    {
      "cell_type": "code",
      "execution_count": 38,
      "metadata": {
        "id": "9ofRGyVfDDEC",
        "outputId": "1f1aac91-3c33-4b8b-be8f-3ed99200b831",
        "colab": {
          "base_uri": "https://localhost:8080/",
          "height": 39
        }
      },
      "outputs": [
        {
          "output_type": "execute_result",
          "data": {
            "text/latex": "$\\displaystyle x^{1.5}$",
            "text/plain": [
              "x**1.5"
            ]
          },
          "metadata": {},
          "execution_count": 38
        }
      ],
      "source": [
        "# example of sympy\n",
        "import sympy\n",
        "from sympy import Symbol, integrate, oo\n",
        "x = Symbol('x')\n",
        "y = x ** 1.5\n",
        "y"
      ]
    },
    {
      "cell_type": "code",
      "execution_count": 39,
      "metadata": {
        "id": "ciIB5UT1DDEC",
        "outputId": "c229ef4f-d7c3-4411-db8f-59afec54f7e8",
        "colab": {
          "base_uri": "https://localhost:8080/",
          "height": 38
        }
      },
      "outputs": [
        {
          "output_type": "execute_result",
          "data": {
            "text/latex": "$\\displaystyle \\infty$",
            "text/plain": [
              "oo"
            ]
          },
          "metadata": {},
          "execution_count": 39
        }
      ],
      "source": [
        "integrate(y * x, (x, 1, oo)) # integrate x^2.5 from 1 to infinity"
      ]
    },
    {
      "cell_type": "code",
      "execution_count": 40,
      "metadata": {
        "id": "k_EHsAvSDDEC",
        "outputId": "10eddb79-95b4-408d-f52c-5fe2350e8466",
        "colab": {
          "base_uri": "https://localhost:8080/",
          "height": 330
        }
      },
      "outputs": [
        {
          "output_type": "stream",
          "name": "stderr",
          "text": [
            "<string>:1: RuntimeWarning: invalid value encountered in double_scalars\n"
          ]
        },
        {
          "output_type": "display_data",
          "data": {
            "image/png": "[encoded data removed]",
            "text/plain": [
              "<Figure size 432x288 with 1 Axes>"
            ]
          },
          "metadata": {
            "needs_background": "light"
          }
        },
        {
          "output_type": "execute_result",
          "data": {
            "text/plain": [
              "<sympy.plotting.plot.Plot at 0x7f07260c5290>"
            ]
          },
          "metadata": {},
          "execution_count": 40
        }
      ],
      "source": [
        "sympy.plot(y)"
      ]
    },
    {
      "cell_type": "code",
      "execution_count": 41,
      "metadata": {
        "id": "_qSzrHjsDDED",
        "outputId": "5bf7a23a-ba1e-47ba-8ffd-10c8f83333b7",
        "colab": {
          "base_uri": "https://localhost:8080/",
          "height": 314
        }
      },
      "outputs": [
        {
          "output_type": "display_data",
          "data": {
            "image/png": "[encoded data removed]",
            "text/plain": [
              "<Figure size 432x288 with 1 Axes>"
            ]
          },
          "metadata": {
            "needs_background": "light"
          }
        },
        {
          "output_type": "execute_result",
          "data": {
            "text/plain": [
              "<sympy.plotting.plot.Plot at 0x7f0723abdc90>"
            ]
          },
          "metadata": {},
          "execution_count": 41
        }
      ],
      "source": [
        "sympy.plot(y, (x, 1e-6, 10),  xscale='log', yscale='log')"
      ]
    },
    {
      "cell_type": "code",
      "execution_count": null,
      "metadata": {
        "id": "fdmXjsmKDDED"
      },
      "outputs": [],
      "source": [
        ""
      ]
    }
  ],
  "metadata": {
    "kernelspec": {
      "display_name": "Python 3",
      "language": "python",
      "name": "python3"
    },
    "language_info": {
      "codemirror_mode": {
        "name": "ipython",
        "version": 3
      },
      "file_extension": ".py",
      "mimetype": "text/x-python",
      "name": "python",
      "nbconvert_exporter": "python",
      "pygments_lexer": "ipython3",
      "version": "3.8.5"
    },
    "colab": {
      "name": "Lecture0 - Introduction.ipynb",
      "provenance": [],
      "include_colab_link": true
    }
  },
  "nbformat": 4,
  "nbformat_minor": 0
}