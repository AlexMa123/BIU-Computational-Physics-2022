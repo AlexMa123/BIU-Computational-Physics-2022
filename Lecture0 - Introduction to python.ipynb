{
  "cells": [
    {
      "cell_type": "markdown",
      "metadata": {
        "id": "view-in-github",
        "colab_type": "text"
      },
      "source": [
        "<a href=\"https://colab.research.google.com/github/AlexMa123/BIU-Computational-Physics-2022/blob/main/Lecture0%20-%20Introduction%20to%20python.ipynb\" target=\"_parent\"><img src=\"https://colab.research.google.com/assets/colab-badge.svg\" alt=\"Open In Colab\"/></a>"
      ]
    },
    {
      "cell_type": "markdown",
      "metadata": {
        "id": "kvfzcTFHDDDq"
      },
      "source": [
        "# Introduction to Python"
      ]
    },
    {
      "cell_type": "markdown",
      "metadata": {
        "id": "klgBnP2_DDDs"
      },
      "source": [
        "## Introduction to Python\n",
        "\n",
        "* python is an interpreted programming language\n",
        "* object-oriented\n",
        "* General purpose language (web, scientific computation, data analysis, artificial intelligence, and so on)\n",
        "* dynamically-typed\n",
        "* human readable\n",
        "* tons of third-party extensions\n",
        "* free, open source"
      ]
    },
    {
      "cell_type": "code",
      "execution_count": 1,
      "metadata": {
        "id": "EVoyrqQxDDDt",
        "outputId": "a79c8b32-fb6a-42aa-95c9-4214ca3e7b89",
        "colab": {
          "base_uri": "https://localhost:8080/"
        }
      },
      "outputs": [
        {
          "output_type": "stream",
          "name": "stdout",
          "text": [
            "The Zen of Python, by Tim Peters\n",
            "\n",
            "Beautiful is better than ugly.\n",
            "Explicit is better than implicit.\n",
            "Simple is better than complex.\n",
            "Complex is better than complicated.\n",
            "Flat is better than nested.\n",
            "Sparse is better than dense.\n",
            "Readability counts.\n",
            "Special cases aren't special enough to break the rules.\n",
            "Although practicality beats purity.\n",
            "Errors should never pass silently.\n",
            "Unless explicitly silenced.\n",
            "In the face of ambiguity, refuse the temptation to guess.\n",
            "There should be one-- and preferably only one --obvious way to do it.\n",
            "Although that way may not be obvious at first unless you're Dutch.\n",
            "Now is better than never.\n",
            "Although never is often better than *right* now.\n",
            "If the implementation is hard to explain, it's a bad idea.\n",
            "If the implementation is easy to explain, it may be a good idea.\n",
            "Namespaces are one honking great idea -- let's do more of those!\n"
          ]
        }
      ],
      "source": [
        "import this"
      ]
    },
    {
      "cell_type": "markdown",
      "metadata": {
        "id": "LL4zqgyaDDDv"
      },
      "source": [
        "### Data types"
      ]
    },
    {
      "cell_type": "code",
      "execution_count": 2,
      "metadata": {
        "id": "uBHid1BhDDDv"
      },
      "outputs": [],
      "source": [
        "True, False # boolean\n",
        "\n",
        "1, 2, 3 # int\n",
        "\n",
        "1.0, 2.0, 3.0 # double\n",
        "\n",
        "1 + 2j # complex\n",
        "\n",
        "\"Hello world\" # strings\n",
        "\n",
        "None # None"
      ]
    },
    {
      "cell_type": "markdown",
      "metadata": {
        "id": "yx0oT234DDDw"
      },
      "source": [
        "### Operators\n",
        "\n",
        "#### Arithmetic"
      ]
    },
    {
      "cell_type": "code",
      "execution_count": 3,
      "metadata": {
        "id": "75HgKvo3DDDw",
        "outputId": "5ca21a79-d0fb-47bd-8144-cb22a54d0851",
        "colab": {
          "base_uri": "https://localhost:8080/"
        }
      },
      "outputs": [
        {
          "output_type": "execute_result",
          "data": {
            "text/plain": [
              "8"
            ]
          },
          "metadata": {},
          "execution_count": 3
        }
      ],
      "source": [
        "2 ** 3 # 2^3"
      ]
    },
    {
      "cell_type": "code",
      "execution_count": 4,
      "metadata": {
        "id": "NF67tg16DDDx",
        "outputId": "28d451cb-66f2-4c95-dccc-f97857b63ddf",
        "colab": {
          "base_uri": "https://localhost:8080/"
        }
      },
      "outputs": [
        {
          "output_type": "execute_result",
          "data": {
            "text/plain": [
              "3.6666666666666665"
            ]
          },
          "metadata": {},
          "execution_count": 4
        }
      ],
      "source": [
        "11 / 3"
      ]
    },
    {
      "cell_type": "code",
      "execution_count": 5,
      "metadata": {
        "id": "OaT1B5zdDDDy",
        "outputId": "c4ca9cf9-1fa9-4010-a471-775c78f1bf10",
        "colab": {
          "base_uri": "https://localhost:8080/"
        }
      },
      "outputs": [
        {
          "output_type": "execute_result",
          "data": {
            "text/plain": [
              "3"
            ]
          },
          "metadata": {},
          "execution_count": 5
        }
      ],
      "source": [
        "11 // 3 # integer part"
      ]
    },
    {
      "cell_type": "code",
      "execution_count": 6,
      "metadata": {
        "id": "zLUJLL9BDDDz",
        "outputId": "aa2bb3be-11a1-4729-8744-cffd0e1e83d6",
        "colab": {
          "base_uri": "https://localhost:8080/"
        }
      },
      "outputs": [
        {
          "output_type": "execute_result",
          "data": {
            "text/plain": [
              "2"
            ]
          },
          "metadata": {},
          "execution_count": 6
        }
      ],
      "source": [
        "11 % 3 # 11 mod 3"
      ]
    },
    {
      "cell_type": "markdown",
      "metadata": {
        "id": "lcIIlgDSDDDz"
      },
      "source": [
        "#### Logical"
      ]
    },
    {
      "cell_type": "code",
      "execution_count": 7,
      "metadata": {
        "id": "lrZ45i86DDD0",
        "outputId": "9b4d5632-1924-41b3-a8c6-0f44d4c1ef6c",
        "colab": {
          "base_uri": "https://localhost:8080/"
        }
      },
      "outputs": [
        {
          "output_type": "execute_result",
          "data": {
            "text/plain": [
              "False"
            ]
          },
          "metadata": {},
          "execution_count": 7
        }
      ],
      "source": [
        "True and False"
      ]
    },
    {
      "cell_type": "code",
      "execution_count": 8,
      "metadata": {
        "id": "bFwy2mRNDDD0",
        "outputId": "12eb50c5-5af3-4357-9091-f27cb0d4813d",
        "colab": {
          "base_uri": "https://localhost:8080/"
        }
      },
      "outputs": [
        {
          "output_type": "execute_result",
          "data": {
            "text/plain": [
              "True"
            ]
          },
          "metadata": {},
          "execution_count": 8
        }
      ],
      "source": [
        "True or False"
      ]
    },
    {
      "cell_type": "code",
      "execution_count": 9,
      "metadata": {
        "id": "PKMKCOBHDDD1",
        "outputId": "c097a0d2-3383-460e-9dd3-581181515417",
        "colab": {
          "base_uri": "https://localhost:8080/"
        }
      },
      "outputs": [
        {
          "output_type": "execute_result",
          "data": {
            "text/plain": [
              "False"
            ]
          },
          "metadata": {},
          "execution_count": 9
        }
      ],
      "source": [
        "not True"
      ]
    },
    {
      "cell_type": "code",
      "execution_count": 10,
      "metadata": {
        "id": "KjDMV6RLDDD1",
        "outputId": "1a8e50c9-82df-4672-9ba3-299155489606",
        "colab": {
          "base_uri": "https://localhost:8080/"
        }
      },
      "outputs": [
        {
          "output_type": "execute_result",
          "data": {
            "text/plain": [
              "(True, True, False, True)"
            ]
          },
          "metadata": {},
          "execution_count": 10
        }
      ],
      "source": [
        "2 == 2, 2 < 3, 2 >= 3, 2 < 3 < 4"
      ]
    },
    {
      "cell_type": "code",
      "execution_count": 11,
      "metadata": {
        "id": "h-Nv7i5LDDD2",
        "outputId": "6283be76-f857-4f02-f664-f7316cc09016",
        "colab": {
          "base_uri": "https://localhost:8080/"
        }
      },
      "outputs": [
        {
          "output_type": "execute_result",
          "data": {
            "text/plain": [
              "True"
            ]
          },
          "metadata": {},
          "execution_count": 11
        }
      ],
      "source": [
        "None is None"
      ]
    },
    {
      "cell_type": "markdown",
      "metadata": {
        "id": "WpSixGQKDDD2"
      },
      "source": [
        "> a == b checks whether a and b have the same value\n",
        "\n",
        "> a is b checks whether a and b points to the same memory"
      ]
    },
    {
      "cell_type": "markdown",
      "metadata": {
        "id": "3lpmxlqmDDD2"
      },
      "source": [
        "#### Membership"
      ]
    },
    {
      "cell_type": "code",
      "execution_count": 12,
      "metadata": {
        "id": "9WZTF7n9DDD3",
        "outputId": "25181f1b-bab3-4023-8b7f-9c989a0ed31e",
        "colab": {
          "base_uri": "https://localhost:8080/"
        }
      },
      "outputs": [
        {
          "output_type": "execute_result",
          "data": {
            "text/plain": [
              "True"
            ]
          },
          "metadata": {},
          "execution_count": 12
        }
      ],
      "source": [
        "1 in [1, 2, 3, 4]"
      ]
    },
    {
      "cell_type": "code",
      "execution_count": 13,
      "metadata": {
        "id": "QWqKPuCfDDD3",
        "outputId": "1df075c9-28a2-4e11-d4c4-fba947d95315",
        "colab": {
          "base_uri": "https://localhost:8080/"
        }
      },
      "outputs": [
        {
          "output_type": "execute_result",
          "data": {
            "text/plain": [
              "True"
            ]
          },
          "metadata": {},
          "execution_count": 13
        }
      ],
      "source": [
        "'hello' in 'hello world'"
      ]
    },
    {
      "cell_type": "markdown",
      "metadata": {
        "id": "WSOCxmb5DDD4"
      },
      "source": [
        "### Collections"
      ]
    },
    {
      "cell_type": "markdown",
      "metadata": {
        "id": "jdf3TOCuDDD4"
      },
      "source": [
        "#### List\n",
        "> Note: in python, index start from 0"
      ]
    },
    {
      "cell_type": "code",
      "execution_count": 14,
      "metadata": {
        "id": "i9gAaIoRDDD4",
        "outputId": "50f96b07-03d4-4bab-ce6c-be515956a1fb",
        "colab": {
          "base_uri": "https://localhost:8080/"
        }
      },
      "outputs": [
        {
          "output_type": "execute_result",
          "data": {
            "text/plain": [
              "(1, 4)"
            ]
          },
          "metadata": {},
          "execution_count": 14
        }
      ],
      "source": [
        "x = [1, 2, 3, 4]\n",
        "x[0], x[-1] # -1 means the end of the list"
      ]
    },
    {
      "cell_type": "code",
      "execution_count": 15,
      "metadata": {
        "id": "vxBldb7sDDD5",
        "outputId": "4d6d3dc0-89fc-4fd3-9a27-e929b22f3695",
        "colab": {
          "base_uri": "https://localhost:8080/"
        }
      },
      "outputs": [
        {
          "output_type": "execute_result",
          "data": {
            "text/plain": [
              "[1, 2, 3, 100]"
            ]
          },
          "metadata": {},
          "execution_count": 15
        }
      ],
      "source": [
        "x[-1] = 100\n",
        "x # List is mutable"
      ]
    },
    {
      "cell_type": "code",
      "execution_count": 16,
      "metadata": {
        "id": "Y6dh3VKmDDD5",
        "outputId": "b57829d2-f987-494e-80a3-74f2f4bf2f89",
        "colab": {
          "base_uri": "https://localhost:8080/"
        }
      },
      "outputs": [
        {
          "output_type": "execute_result",
          "data": {
            "text/plain": [
              "[1, 2, 3, 'a']"
            ]
          },
          "metadata": {},
          "execution_count": 16
        }
      ],
      "source": [
        "x[-1] = 'a'\n",
        "x # List can save different data with different types"
      ]
    },
    {
      "cell_type": "code",
      "execution_count": 17,
      "metadata": {
        "id": "dsePLuO_DDD5",
        "outputId": "93d1a722-4b13-48d7-efc6-f7300cba5a1b",
        "colab": {
          "base_uri": "https://localhost:8080/"
        }
      },
      "outputs": [
        {
          "output_type": "execute_result",
          "data": {
            "text/plain": [
              "[1, 2, 3, 'a', 10]"
            ]
          },
          "metadata": {},
          "execution_count": 17
        }
      ],
      "source": [
        "x.append(10)\n",
        "x"
      ]
    },
    {
      "cell_type": "markdown",
      "metadata": {
        "id": "Fq-xE5HsDDD6"
      },
      "source": [
        "### Tuples"
      ]
    },
    {
      "cell_type": "code",
      "execution_count": 18,
      "metadata": {
        "id": "gL8fA-C9DDD6",
        "outputId": "723ca652-1d56-45fe-bbe9-f403088c9d3d",
        "colab": {
          "base_uri": "https://localhost:8080/"
        }
      },
      "outputs": [
        {
          "output_type": "execute_result",
          "data": {
            "text/plain": [
              "(1, 3)"
            ]
          },
          "metadata": {},
          "execution_count": 18
        }
      ],
      "source": [
        "x = (1, 2, 3)\n",
        "x[0], x[-1]"
      ]
    },
    {
      "cell_type": "code",
      "execution_count": 19,
      "metadata": {
        "id": "N-4fZF7NDDD6",
        "outputId": "de17f443-ad14-4b09-8a76-1dbe1664ef4d",
        "colab": {
          "base_uri": "https://localhost:8080/",
          "height": 165
        }
      },
      "outputs": [
        {
          "output_type": "error",
          "ename": "TypeError",
          "evalue": "ignored",
          "traceback": [
            "\u001b[0;31m---------------------------------------------------------------------------\u001b[0m",
            "\u001b[0;31mTypeError\u001b[0m                                 Traceback (most recent call last)",
            "\u001b[0;32m<ipython-input-19-7c6674c3da4b>\u001b[0m in \u001b[0;36m<module>\u001b[0;34m()\u001b[0m\n\u001b[0;32m----> 1\u001b[0;31m \u001b[0mx\u001b[0m\u001b[0;34m[\u001b[0m\u001b[0;34m-\u001b[0m\u001b[0;36m1\u001b[0m\u001b[0;34m]\u001b[0m \u001b[0;34m=\u001b[0m \u001b[0;36m10\u001b[0m \u001b[0;31m# Tuple is immutable\u001b[0m\u001b[0;34m\u001b[0m\u001b[0;34m\u001b[0m\u001b[0m\n\u001b[0m",
            "\u001b[0;31mTypeError\u001b[0m: 'tuple' object does not support item assignment"
          ]
        }
      ],
      "source": [
        "x[-1] = 10 # Tuple is immutable"
      ]
    },
    {
      "cell_type": "markdown",
      "metadata": {
        "id": "0QuA9jw2DDD6"
      },
      "source": [
        "#### Sets"
      ]
    },
    {
      "cell_type": "code",
      "execution_count": 20,
      "metadata": {
        "id": "ZYtDQ-G4DDD6",
        "outputId": "be0c462e-5a28-4bab-a93f-9a884b143a3d",
        "colab": {
          "base_uri": "https://localhost:8080/"
        }
      },
      "outputs": [
        {
          "output_type": "execute_result",
          "data": {
            "text/plain": [
              "{1, 2, 3, 4}"
            ]
          },
          "metadata": {},
          "execution_count": 20
        }
      ],
      "source": [
        "x = [1, 3, 4, 1, 2, 3, 1, 1, 2]\n",
        "set(x)"
      ]
    },
    {
      "cell_type": "markdown",
      "metadata": {
        "id": "mZoYC-GpDDD7"
      },
      "source": [
        "#### Dictionaries"
      ]
    },
    {
      "cell_type": "code",
      "execution_count": 21,
      "metadata": {
        "id": "wIBfiBUhDDD7",
        "outputId": "3cde6a91-3191-4c33-d4b0-f37303bd6e6e",
        "colab": {
          "base_uri": "https://localhost:8080/"
        }
      },
      "outputs": [
        {
          "output_type": "execute_result",
          "data": {
            "text/plain": [
              "[1, 2, 3]"
            ]
          },
          "metadata": {},
          "execution_count": 21
        }
      ],
      "source": [
        "x = {'a': 1, 'b':[1, 2, 3], 'c': 10}\n",
        "x['b']"
      ]
    },
    {
      "cell_type": "code",
      "execution_count": 22,
      "metadata": {
        "id": "lDxeO4aSDDD7",
        "outputId": "9b93afdf-454e-4cc1-b1b0-b9c63ddf2db5",
        "colab": {
          "base_uri": "https://localhost:8080/"
        }
      },
      "outputs": [
        {
          "output_type": "execute_result",
          "data": {
            "text/plain": [
              "1"
            ]
          },
          "metadata": {},
          "execution_count": 22
        }
      ],
      "source": [
        "x['a']"
      ]
    },
    {
      "cell_type": "markdown",
      "metadata": {
        "id": "x4qsT3J6DDD7"
      },
      "source": [
        "### Functions"
      ]
    },
    {
      "cell_type": "code",
      "execution_count": 23,
      "metadata": {
        "id": "CglbgegWDDD8"
      },
      "outputs": [],
      "source": [
        "def f_add(a, b):\n",
        "    \"\"\"\n",
        "    This is Docstring for function f_add\n",
        "    compute a + b\n",
        "    \"\"\"\n",
        "    return a + b"
      ]
    },
    {
      "cell_type": "code",
      "execution_count": 24,
      "metadata": {
        "id": "isyfLwMtDDD8",
        "outputId": "c9fbac0b-69d5-482c-8961-0231bb800ae6",
        "colab": {
          "base_uri": "https://localhost:8080/"
        }
      },
      "outputs": [
        {
          "output_type": "execute_result",
          "data": {
            "text/plain": [
              "5"
            ]
          },
          "metadata": {},
          "execution_count": 24
        }
      ],
      "source": [
        "f_add(2, 3)"
      ]
    },
    {
      "cell_type": "code",
      "execution_count": 25,
      "metadata": {
        "id": "pVIObqQlDDD8",
        "outputId": "ef880125-9297-40ee-9ac0-9c2c401041de",
        "colab": {
          "base_uri": "https://localhost:8080/"
        }
      },
      "outputs": [
        {
          "output_type": "stream",
          "name": "stdout",
          "text": [
            "Help on function f_add in module __main__:\n",
            "\n",
            "f_add(a, b)\n",
            "    This is Docstring for function f_add\n",
            "    compute a + b\n",
            "\n"
          ]
        }
      ],
      "source": [
        "help(f_add) # use help to print the docstring"
      ]
    },
    {
      "cell_type": "code",
      "execution_count": 26,
      "metadata": {
        "id": "befrDhN3DDD9"
      },
      "outputs": [],
      "source": [
        "?f_add"
      ]
    },
    {
      "cell_type": "code",
      "execution_count": 27,
      "metadata": {
        "id": "AeLEKe42DDD9",
        "outputId": "30aac640-c30e-41f2-aa86-c763456a1b64",
        "colab": {
          "base_uri": "https://localhost:8080/",
          "height": 35
        }
      },
      "outputs": [
        {
          "output_type": "execute_result",
          "data": {
            "application/vnd.google.colaboratory.intrinsic+json": {
              "type": "string"
            },
            "text/plain": [
              "'hello world'"
            ]
          },
          "metadata": {},
          "execution_count": 27
        }
      ],
      "source": [
        "f_add(\"hello \", 'world')"
      ]
    },
    {
      "cell_type": "markdown",
      "metadata": {
        "id": "bcA-DYz1DDD9"
      },
      "source": [
        "### Control flow and loop\n",
        "\n",
        "#### if-elif-else\n",
        "```python\n",
        "if condition:\n",
        "    statements\n",
        "elif condition:\n",
        "    statements\n",
        "else:\n",
        "    statements\n",
        "```\n",
        "Note, in Matlab you use `end` to end a control flow, function or loop, but ***python treats the statements that have the same indentation level as a single block of code***\n",
        "\n",
        "Unlike indentation in other languages is just for readability, indentation is a very important concept in python"
      ]
    },
    {
      "cell_type": "code",
      "execution_count": 28,
      "metadata": {
        "id": "zeEcUywUDDD9",
        "outputId": "b1a3d5e0-bc3d-4aef-b499-867b2e5c40a8",
        "colab": {
          "base_uri": "https://localhost:8080/"
        }
      },
      "outputs": [
        {
          "output_type": "stream",
          "name": "stdout",
          "text": [
            "a is larger than 10\n"
          ]
        }
      ],
      "source": [
        "a = 22\n",
        "if a > 10:\n",
        "    print('a is larger than 10')\n",
        "elif 5 < a <= 10:\n",
        "    print('a is larger than 5 but not larger than 10')\n",
        "# You can also add other elif blocks\n",
        "else:\n",
        "    print('a is not larger than 5')"
      ]
    },
    {
      "cell_type": "markdown",
      "metadata": {
        "id": "maZy9OL3DDD-"
      },
      "source": [
        "#### while loop\n",
        "```python\n",
        "while condition:\n",
        "    statements\n",
        "```"
      ]
    },
    {
      "cell_type": "code",
      "execution_count": 29,
      "metadata": {
        "id": "77LPl8HSDDD-",
        "outputId": "d5751431-ffb6-4f97-f02d-75dccd2b5360",
        "colab": {
          "base_uri": "https://localhost:8080/"
        }
      },
      "outputs": [
        {
          "output_type": "stream",
          "name": "stdout",
          "text": [
            "3628800\n"
          ]
        }
      ],
      "source": [
        "# use while loop to calculate 10!\n",
        "i = 1\n",
        "result = 1\n",
        "while i <= 10:\n",
        "    result = result * i\n",
        "    i = i + 1\n",
        "print(result)"
      ]
    },
    {
      "cell_type": "markdown",
      "metadata": {
        "id": "pXnYSsGuDDD-"
      },
      "source": [
        "#### for loop\n",
        "for loop is used for iterating over a iterable object (like list, tuple, dictionary, set, string and so on)\n",
        "```python\n",
        "for object in iterator:\n",
        "    statements\n",
        "```\n"
      ]
    },
    {
      "cell_type": "code",
      "execution_count": 30,
      "metadata": {
        "id": "K-AeHTb6DDD-",
        "outputId": "5641359d-6987-4836-a667-6c1d7f7d6664",
        "colab": {
          "base_uri": "https://localhost:8080/"
        }
      },
      "outputs": [
        {
          "output_type": "execute_result",
          "data": {
            "text/plain": [
              "3628800"
            ]
          },
          "metadata": {},
          "execution_count": 30
        }
      ],
      "source": [
        "# use for loop to calculate 10!\n",
        "result = 1\n",
        "for i in range(1, 11):\n",
        "    result = result * i\n",
        "result"
      ]
    },
    {
      "cell_type": "code",
      "execution_count": 31,
      "metadata": {
        "id": "jDMj8J_HDDD_",
        "outputId": "bbc6fbc4-eb35-4156-bb18-de843b5c8c03",
        "colab": {
          "base_uri": "https://localhost:8080/"
        }
      },
      "outputs": [
        {
          "output_type": "execute_result",
          "data": {
            "text/plain": [
              "[1, 2, 3, 4, 5, 6, 7, 8, 9, 10]"
            ]
          },
          "metadata": {},
          "execution_count": 31
        }
      ],
      "source": [
        "list(range(1, 11)) # start from 1 and end at 11 - 1"
      ]
    },
    {
      "cell_type": "code",
      "execution_count": 32,
      "metadata": {
        "id": "k9AISRaADDD_",
        "outputId": "a612bea2-6426-41a9-c56a-ec95028b553d",
        "colab": {
          "base_uri": "https://localhost:8080/"
        }
      },
      "outputs": [
        {
          "output_type": "stream",
          "name": "stdout",
          "text": [
            "0 a\n",
            "1 b\n",
            "2 c\n"
          ]
        }
      ],
      "source": [
        "for i, value in enumerate(['a', 'b', 'c']):\n",
        "    print(i, value)"
      ]
    },
    {
      "cell_type": "code",
      "execution_count": 33,
      "metadata": {
        "id": "0tAC_1F-DDD_",
        "outputId": "015ee06b-f010-4aeb-969c-ce07e5c417cd",
        "colab": {
          "base_uri": "https://localhost:8080/"
        }
      },
      "outputs": [
        {
          "output_type": "stream",
          "name": "stdout",
          "text": [
            "1 2\n",
            "2 3\n",
            "4 5\n"
          ]
        }
      ],
      "source": [
        "for a, b in [(1, 2), (2, 3), (4, 5)]:\n",
        "    print(a, b)"
      ]
    },
    {
      "cell_type": "markdown",
      "metadata": {
        "id": "s7e6lzWXDDEA"
      },
      "source": [
        "### Packages and namespace"
      ]
    },
    {
      "cell_type": "code",
      "execution_count": 34,
      "metadata": {
        "id": "YjR1lVN-DDEA",
        "outputId": "681fe62a-d1a5-47e0-cfbf-fdc3c9a566aa",
        "colab": {
          "base_uri": "https://localhost:8080/"
        }
      },
      "outputs": [
        {
          "output_type": "stream",
          "name": "stdout",
          "text": [
            "Writing foo.py\n"
          ]
        }
      ],
      "source": [
        "%%file foo.py\n",
        "# save a file called foo.py, and there is a function inside this file\n",
        "def say_hi(name):\n",
        "    print(\"Hi!\", name)"
      ]
    },
    {
      "cell_type": "code",
      "execution_count": 35,
      "metadata": {
        "id": "7DhfuGopDDEA",
        "outputId": "3aa767ae-3109-4894-abee-386070e30383",
        "colab": {
          "base_uri": "https://localhost:8080/"
        }
      },
      "outputs": [
        {
          "output_type": "stream",
          "name": "stdout",
          "text": [
            "Hi! Alex\n"
          ]
        }
      ],
      "source": [
        "import foo # like #include<foo.h> in C/C++\n",
        "foo.say_hi(\"Alex\") # use a function called say_hi from the file foo.py"
      ]
    },
    {
      "cell_type": "code",
      "execution_count": 36,
      "metadata": {
        "id": "GIcnVrQbDDEB",
        "outputId": "8ef1ee63-ef80-4627-831b-bbefbd96de51",
        "colab": {
          "base_uri": "https://localhost:8080/"
        }
      },
      "outputs": [
        {
          "output_type": "stream",
          "name": "stdout",
          "text": [
            "Hi! Alex\n"
          ]
        }
      ],
      "source": [
        "from foo import say_hi\n",
        "say_hi(\"Alex\")"
      ]
    },
    {
      "cell_type": "markdown",
      "metadata": {
        "id": "gKirSV1wDDEB"
      },
      "source": [
        "### Third-party packages\n",
        "![python package](https://jupytearth.org/_images/python-stack.png)"
      ]
    },
    {
      "cell_type": "markdown",
      "metadata": {
        "id": "u9kLik5pDDEB"
      },
      "source": [
        "For scientific computation:\n",
        "* numpy: support for large, multidimensional arrays and matrices, along with a large collection of high-level mathematical functions to operate on arrays.\n",
        "* scipy: fundamental algorithms for scientific computing\n",
        "> including special functions, integration, optimization, interpolation, fourier transforms, signal processing, Linear Algebra, statistics and so on\n",
        "\n",
        "* sympy: symbolic mathematics\n",
        "* NetworkX: a Python package for the creation, manipulation, and study of the structure, dynamics, and functions of complex networks.\n",
        "\n",
        "For visualization\n",
        "* matplotlib: plotting library with a similar API with MATLAB\n",
        "* Seaborn: a Python data visualization library based on matplotlib. It provides a high-level interface for drawing attractive and informative statistical graphics.\n",
        "* Plotly: Python graphing library makes interactive, publication-quality graphs"
      ]
    },
    {
      "cell_type": "code",
      "execution_count": 37,
      "metadata": {
        "id": "mbJcdq3UDDEC",
        "outputId": "44835457-cfa9-4938-eb28-179ca520b322",
        "colab": {
          "base_uri": "https://localhost:8080/",
          "height": 282
        }
      },
      "outputs": [
        {
          "output_type": "execute_result",
          "data": {
            "text/plain": [
              "[<matplotlib.lines.Line2D at 0x7fd8f29c5c50>]"
            ]
          },
          "metadata": {},
          "execution_count": 37
        },
        {
          "output_type": "display_data",
          "data": {
            "image/png": "[encoded data removed]",
            "text/plain": [
              "<Figure size 432x288 with 1 Axes>"
            ]
          },
          "metadata": {
            "needs_background": "light"
          }
        }
      ],
      "source": [
        "# example of numpy\n",
        "import numpy as np\n",
        "import matplotlib.pyplot as plt # use plt to refer to matplotlib.pyplot\n",
        "\n",
        "x = np.linspace(0, 10, 100) # an array include 100 numbers start from 0 and end at 10.\n",
        "y = np.exp(x)\n",
        "\n",
        "plt.plot(x, y)\n"
      ]
    },
    {
      "cell_type": "code",
      "execution_count": 38,
      "metadata": {
        "id": "9ofRGyVfDDEC",
        "outputId": "23dc17d6-68ac-4e9f-9ab2-383c9cc7b97a",
        "colab": {
          "base_uri": "https://localhost:8080/",
          "height": 38
        }
      },
      "outputs": [
        {
          "output_type": "execute_result",
          "data": {
            "text/latex": "$\\displaystyle x^{1.5}$",
            "text/plain": [
              "x**1.5"
            ]
          },
          "metadata": {},
          "execution_count": 38
        }
      ],
      "source": [
        "# example of sympy\n",
        "import sympy\n",
        "from sympy import Symbol, integrate, oo\n",
        "x = Symbol('x')\n",
        "y = x ** 1.5\n",
        "y"
      ]
    },
    {
      "cell_type": "code",
      "execution_count": 39,
      "metadata": {
        "id": "ciIB5UT1DDEC",
        "outputId": "5e2246da-097c-4e54-a7f8-9a30c5b7c1ee",
        "colab": {
          "base_uri": "https://localhost:8080/",
          "height": 37
        }
      },
      "outputs": [
        {
          "output_type": "execute_result",
          "data": {
            "text/latex": "$\\displaystyle \\infty$",
            "text/plain": [
              "oo"
            ]
          },
          "metadata": {},
          "execution_count": 39
        }
      ],
      "source": [
        "integrate(y * x, (x, 1, oo)) # integrate x^2.5 from 1 to infinity"
      ]
    },
    {
      "cell_type": "code",
      "execution_count": 40,
      "metadata": {
        "id": "k_EHsAvSDDEC",
        "outputId": "8747ed57-c3a2-4d4d-964c-673356a344d8",
        "colab": {
          "base_uri": "https://localhost:8080/",
          "height": 331
        }
      },
      "outputs": [
        {
          "output_type": "stream",
          "name": "stderr",
          "text": [
            "<string>:1: RuntimeWarning: invalid value encountered in double_scalars\n"
          ]
        },
        {
          "output_type": "display_data",
          "data": {
            "image/png": "[encoded data removed]",
            "text/plain": [
              "<Figure size 432x288 with 1 Axes>"
            ]
          },
          "metadata": {
            "needs_background": "light"
          }
        },
        {
          "output_type": "execute_result",
          "data": {
            "text/plain": [
              "<sympy.plotting.plot.Plot at 0x7fd8ef0e1dd0>"
            ]
          },
          "metadata": {},
          "execution_count": 40
        }
      ],
      "source": [
        "sympy.plot(y)"
      ]
    },
    {
      "cell_type": "code",
      "execution_count": 41,
      "metadata": {
        "id": "_qSzrHjsDDED",
        "outputId": "f8b6cfa0-7bf4-4d2e-ab00-336835108c37",
        "colab": {
          "base_uri": "https://localhost:8080/",
          "height": 314
        }
      },
      "outputs": [
        {
          "output_type": "display_data",
          "data": {
            "image/png": "[encoded data removed]",
            "text/plain": [
              "<Figure size 432x288 with 1 Axes>"
            ]
          },
          "metadata": {
            "needs_background": "light"
          }
        },
        {
          "output_type": "execute_result",
          "data": {
            "text/plain": [
              "<sympy.plotting.plot.Plot at 0x7fd8eaf06bd0>"
            ]
          },
          "metadata": {},
          "execution_count": 41
        }
      ],
      "source": [
        "sympy.plot(y, (x, 1e-6, 10),  xscale='log', yscale='log')"
      ]
    },
    {
      "cell_type": "code",
      "execution_count": 41,
      "metadata": {
        "id": "fdmXjsmKDDED"
      },
      "outputs": [],
      "source": [
        ""
      ]
    }
  ],
  "metadata": {
    "kernelspec": {
      "display_name": "Python 3",
      "language": "python",
      "name": "python3"
    },
    "language_info": {
      "codemirror_mode": {
        "name": "ipython",
        "version": 3
      },
      "file_extension": ".py",
      "mimetype": "text/x-python",
      "name": "python",
      "nbconvert_exporter": "python",
      "pygments_lexer": "ipython3",
      "version": "3.8.5"
    },
    "colab": {
      "name": "Lecture0 - Introduction.ipynb",
      "provenance": [],
      "include_colab_link": true
    }
  },
  "nbformat": 4,
  "nbformat_minor": 0
}