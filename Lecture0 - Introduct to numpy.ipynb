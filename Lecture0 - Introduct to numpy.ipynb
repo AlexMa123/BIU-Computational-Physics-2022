{
  "cells": [
    {
      "cell_type": "markdown",
      "metadata": {
        "id": "view-in-github",
        "colab_type": "text"
      },
      "source": [
        "<a href=\"https://colab.research.google.com/github/AlexMa123/BIU-Computational-Physics-2022/blob/main/Lecture0%20-%20Introduct%20to%20numpy.ipynb\" target=\"_parent\"><img src=\"https://colab.research.google.com/assets/colab-badge.svg\" alt=\"Open In Colab\"/></a>"
      ]
    },
    {
      "cell_type": "markdown",
      "metadata": {
        "id": "RFEAuhLuNqnL"
      },
      "source": [
        "# Introduction to numpy\n",
        "\n",
        "## What is Numpy?\n",
        "\n",
        "NumPy is the `fundamental package` for scientific computing in Python. It is a Python library that provides a `multidimensional array object`, various derived objects (such as masked arrays and matrices), and an assortment of routines for fast operations on arrays, including mathematical, logical, shape manipulation, sorting, selecting, I/O, discrete Fourier transforms, basic linear algebra, basic statistical operations, random simulation and much more."
      ]
    },
    {
      "cell_type": "markdown",
      "metadata": {
        "id": "VCwGdG9VNqnQ"
      },
      "source": [
        "### Numpy is Fast\n",
        "\n",
        "Let's look at an example. Assume we have two arrays: a and b, calculate $a^2 + b^2$"
      ]
    },
    {
      "cell_type": "code",
      "execution_count": null,
      "metadata": {
        "id": "ecQvpj9GNqnR"
      },
      "outputs": [],
      "source": [
        "# pure python code\n",
        "def pySum(a, b):\n",
        "    c = []\n",
        "    for i in range(len(a)):\n",
        "        c.append(a[i]**2 + b[i] ** 2)\n",
        "    return c \n",
        "\n",
        "# vectorization calculation in numpy\n",
        "def npSum(a, b):\n",
        "    c = a ** 2 + b ** 2\n",
        "    return c"
      ]
    },
    {
      "cell_type": "code",
      "execution_count": null,
      "metadata": {
        "id": "zWVxo6AcNqnT"
      },
      "outputs": [],
      "source": [
        "import numpy as np\n",
        "\n",
        "a = np.arange(0, 10000)\n",
        "b = np.arange(0, 10000)"
      ]
    },
    {
      "cell_type": "code",
      "execution_count": null,
      "metadata": {
        "id": "-cY_R3FXNqnU",
        "outputId": "f0c10fa0-57ce-44be-813d-5e23dc5f52de"
      },
      "outputs": [
        {
          "name": "stdout",
          "output_type": "stream",
          "text": [
            "7.92 ms ± 158 µs per loop (mean ± std. dev. of 7 runs, 100 loops each)\n"
          ]
        }
      ],
      "source": [
        "%timeit pySum(a, b)"
      ]
    },
    {
      "cell_type": "code",
      "execution_count": null,
      "metadata": {
        "id": "y1rHsxl0NqnV",
        "outputId": "f7a4f1f9-7a50-44ec-c97c-18ebc230abd8"
      },
      "outputs": [
        {
          "name": "stdout",
          "output_type": "stream",
          "text": [
            "31.6 µs ± 976 ns per loop (mean ± std. dev. of 7 runs, 10000 loops each)\n"
          ]
        }
      ],
      "source": [
        "%timeit npSum(a, b)"
      ]
    },
    {
      "cell_type": "markdown",
      "metadata": {
        "id": "7wN4Xy_ENqnV"
      },
      "source": [
        "Since 1$\\mu s$ is 1000 ms, so the \"vectorized\" computation is much faster than a python's for loop\n",
        "\n",
        "> Note, a ** 2 in python is equivalent to a .^ 2 in matlab\n",
        "\n",
        "> Unlike matlab, you don't need to add a . before an operation to make that operation vectorization, the operations between two arrays are vectorized in numpy by default."
      ]
    },
    {
      "cell_type": "code",
      "execution_count": null,
      "metadata": {
        "id": "WXdoqGiSNqnW",
        "outputId": "7fb16f57-92c9-4177-dba0-3861b245b733"
      },
      "outputs": [
        {
          "data": {
            "text/plain": [
              "-1724114088"
            ]
          },
          "execution_count": 16,
          "metadata": {},
          "output_type": "execute_result"
        }
      ],
      "source": [
        "a + b # equivalent to a .+ b in matlab\n",
        "a * b # equivalent to a .* b in matlab\n",
        "a @ b # equivalent to a * b, if a and b are matrices"
      ]
    },
    {
      "cell_type": "markdown",
      "metadata": {
        "id": "cULaVMNANqnX"
      },
      "source": [
        "## Create an ndarray (n dimensional array) object\n",
        "1. from a list or tuple"
      ]
    },
    {
      "cell_type": "code",
      "execution_count": null,
      "metadata": {
        "id": "Ou_Oy5QoNqna",
        "outputId": "71bfd701-f9f7-4e55-dcd6-25ec676b4bbc"
      },
      "outputs": [
        {
          "name": "stdout",
          "output_type": "stream",
          "text": [
            "[1 2 3 4]\n",
            "[1 2 3 4]\n",
            "[[1 2 4]\n",
            " [3 4 5]]\n"
          ]
        }
      ],
      "source": [
        "# 1d array\n",
        "arr1_list = np.array([1, 2, 3, 4])\n",
        "print(arr1_list)\n",
        "arr1_tuple = np.array((1, 2, 3, 4))\n",
        "print(arr1_tuple)\n",
        "\n",
        "# 2d array\n",
        "arr2 = np.array([[1, 2, 4], [3, 4, 5]]) # equivalent to [1, 2, 4; 3, 4, 5] in matlab\n",
        "print(arr2)"
      ]
    },
    {
      "cell_type": "markdown",
      "metadata": {
        "id": "zB4Zk7FfNqnb"
      },
      "source": [
        "2. from numpy functions "
      ]
    },
    {
      "cell_type": "code",
      "execution_count": null,
      "metadata": {
        "id": "RA1a1sPrNqnc",
        "outputId": "ccfeddd3-7b1d-4c29-dcb0-f8dbc8391289"
      },
      "outputs": [
        {
          "name": "stdout",
          "output_type": "stream",
          "text": [
            "[[0. 0.]\n",
            " [0. 0.]]\n",
            "[[1. 1.]\n",
            " [1. 1.]]\n",
            "[[10 10]\n",
            " [10 10]]\n",
            "[[1. 0. 0.]\n",
            " [0. 1. 0.]\n",
            " [0. 0. 1.]]\n",
            "[[0.92240432 0.45849809 0.35391916]\n",
            " [0.39460597 0.22696778 0.30481057]\n",
            " [0.7935529  0.71373049 0.64868327]]\n",
            "[0 1 2 3 4 5 6 7 8 9]\n"
          ]
        }
      ],
      "source": [
        "arr1 = np.zeros((2, 2)) # create an array of all zeros, shape is (2, 2)\n",
        "print(arr1)\n",
        "\n",
        "arr2 = np.ones((2, 2)) # Create an array of all ones\n",
        "print(arr2)\n",
        "\n",
        "arr3 = np.full((2, 2), 10) # create a constant array\n",
        "print(arr3)\n",
        "\n",
        "d = np.eye(3) # identity matrix\n",
        "print(d)\n",
        "\n",
        "r = np.random.rand(3, 3) # Create an array filled with random values uniformly disrtibuted from 0 to 1\n",
        "print(r)\n",
        "\n",
        "arr4 = np.arange(0, 10, 1) # equivalent to arr4 = 0:1:9 in matlab\n",
        "print(arr4)"
      ]
    },
    {
      "cell_type": "markdown",
      "metadata": {
        "id": "GKo_1juwNqnd"
      },
      "source": [
        "## Array indexing"
      ]
    },
    {
      "cell_type": "code",
      "execution_count": null,
      "metadata": {
        "id": "B-nOvnUHNqnd",
        "outputId": "d1512828-a0de-4905-8811-fdf0ff68d7e4"
      },
      "outputs": [
        {
          "name": "stdout",
          "output_type": "stream",
          "text": [
            "second element in a is:  2\n",
            "the last element: 8\n",
            "from the first elemnt to the thrid element [1 2 3]\n",
            "[2 3 4 5]\n",
            "select data every 2 elements [1 3 5 7]\n"
          ]
        }
      ],
      "source": [
        "a = np.array([1, 2, 3, 4, 5, 6, 7, 8])\n",
        "# the index is from 0 in python\n",
        "print(\"second element in a is: \", a[1])\n",
        "print(\"the last element:\", a[-1])\n",
        "# slicing a[start:end:step]\n",
        "print(\"from the first elemnt to the thrid element\", a[:3])\n",
        "print(a[1:5])\n",
        "print(\"select data every 2 elements\", a[::2])\n"
      ]
    },
    {
      "cell_type": "code",
      "execution_count": null,
      "metadata": {
        "id": "DSjrjP7uNqnd",
        "outputId": "42844959-4610-4c06-ce37-0507a02e0dba"
      },
      "outputs": [
        {
          "name": "stdout",
          "output_type": "stream",
          "text": [
            "[ True  True  True  True False False False False]\n",
            "[1 2 3 4]\n",
            "[1 2 3 4]\n"
          ]
        }
      ],
      "source": [
        "# boolean indexing\n",
        "print(a < 5)\n",
        "print(a[[True, True, True, True, False, False, False, False]])\n",
        "# equivalent to\n",
        "print(a[a < 5])"
      ]
    },
    {
      "cell_type": "markdown",
      "metadata": {
        "id": "E0RO4RZMNqne"
      },
      "source": [
        "estimate $\\pi$ using boolean indexing:\n",
        "\n",
        "Generate N random points (x, y) between 0 to 1.\n",
        "count how many points obey: $x^2 + y ^ 2 < 1$, assume there are M points inside the circle\n",
        "$\\pi \\approx 4 M/N$"
      ]
    },
    {
      "cell_type": "code",
      "execution_count": null,
      "metadata": {
        "id": "6Xut8ZTiNqne",
        "outputId": "83e05f8d-ddab-425d-d99c-4ee153899e5c"
      },
      "outputs": [
        {
          "data": {
            "text/plain": [
              "3.14004"
            ]
          },
          "execution_count": 14,
          "metadata": {},
          "output_type": "execute_result"
        }
      ],
      "source": [
        "n = 100000\n",
        "x, y = np.random.rand(2, n)\n",
        "4 * x[x **2 + y **2 < 1].size / n"
      ]
    },
    {
      "cell_type": "code",
      "execution_count": null,
      "metadata": {
        "id": "GiS155QVNqnf",
        "outputId": "68ba0533-0937-4b16-a438-c2b303657e58"
      },
      "outputs": [
        {
          "name": "stdout",
          "output_type": "stream",
          "text": [
            "[[ 1  2  3  4]\n",
            " [ 5  6  7  8]\n",
            " [ 9 10 11 12]]\n",
            "the shape of a is:  (3, 4)\n",
            "1\n",
            "get the the first row:  [1 2 3 4]\n",
            "get the first column:  [1 5 9]\n"
          ]
        }
      ],
      "source": [
        "a = np.array([[1, 2, 3, 4], [5, 6, 7, 8], [9, 10, 11, 12]])\n",
        "\n",
        "print(a)\n",
        "\n",
        "print(\"the shape of a is: \", a.shape)\n",
        "print(a[0, 0]) \n",
        "\n",
        "print(\"get the the first row: \", a[0])\n",
        "print(\"get the first column: \", a[:, 0])"
      ]
    },
    {
      "cell_type": "markdown",
      "metadata": {
        "id": "iElDR5OJNqnf"
      },
      "source": [
        "## Array Math"
      ]
    },
    {
      "cell_type": "code",
      "execution_count": null,
      "metadata": {
        "id": "BPTDt3nRNqng",
        "outputId": "c12589b7-a5c6-4c00-ad22-ac50d137ff78"
      },
      "outputs": [
        {
          "data": {
            "text/plain": [
              "array([[ 6,  8],\n",
              "       [10, 12]])"
            ]
          },
          "execution_count": 60,
          "metadata": {},
          "output_type": "execute_result"
        }
      ],
      "source": [
        "x = np.array([[1, 2], [3, 4]])\n",
        "y = np.array([[5, 6], [7, 8]])\n",
        "\n",
        "x + y"
      ]
    },
    {
      "cell_type": "code",
      "execution_count": null,
      "metadata": {
        "id": "9gDIyWZxNqng",
        "outputId": "cb00f0a3-917f-4ab9-89d8-faa0abdaa63e"
      },
      "outputs": [
        {
          "data": {
            "text/plain": [
              "array([[-4, -4],\n",
              "       [-4, -4]])"
            ]
          },
          "execution_count": 61,
          "metadata": {},
          "output_type": "execute_result"
        }
      ],
      "source": [
        "x - y"
      ]
    },
    {
      "cell_type": "code",
      "execution_count": null,
      "metadata": {
        "id": "foR0GwFhNqng",
        "outputId": "5dc59f27-1bd9-4a6c-bf75-7df6dbb3f468"
      },
      "outputs": [
        {
          "data": {
            "text/plain": [
              "array([[ 5, 12],\n",
              "       [21, 32]])"
            ]
          },
          "execution_count": 62,
          "metadata": {},
          "output_type": "execute_result"
        }
      ],
      "source": [
        "x * y"
      ]
    },
    {
      "cell_type": "code",
      "execution_count": null,
      "metadata": {
        "id": "lLOV2KlPNqnh",
        "outputId": "8827f0cb-59bd-4314-b027-cd6622e79e22"
      },
      "outputs": [
        {
          "data": {
            "text/plain": [
              "array([[19, 22],\n",
              "       [43, 50]])"
            ]
          },
          "execution_count": 63,
          "metadata": {},
          "output_type": "execute_result"
        }
      ],
      "source": [
        "x @ y # matrix product"
      ]
    },
    {
      "cell_type": "code",
      "execution_count": null,
      "metadata": {
        "id": "dj8mxl26Nqnh",
        "outputId": "585379ff-5a12-4718-a66d-543a887f69ce"
      },
      "outputs": [
        {
          "data": {
            "text/plain": [
              "array([[1.        , 1.41421356],\n",
              "       [1.73205081, 2.        ]])"
            ]
          },
          "execution_count": 64,
          "metadata": {},
          "output_type": "execute_result"
        }
      ],
      "source": [
        "np.sqrt(x)"
      ]
    },
    {
      "cell_type": "code",
      "execution_count": null,
      "metadata": {
        "id": "r-laV7vANqni",
        "outputId": "43198f52-a25e-4684-e8e7-131b45793f5a"
      },
      "outputs": [
        {
          "data": {
            "text/plain": [
              "array([[1, 3],\n",
              "       [2, 4]])"
            ]
          },
          "execution_count": 65,
          "metadata": {},
          "output_type": "execute_result"
        }
      ],
      "source": [
        "x.T # transpose"
      ]
    },
    {
      "cell_type": "code",
      "execution_count": null,
      "metadata": {
        "id": "Jwcjo99-Nqni",
        "outputId": "82b0101e-e8bb-473a-8bfd-9431e32b19af"
      },
      "outputs": [
        {
          "data": {
            "text/plain": [
              "10"
            ]
          },
          "execution_count": 66,
          "metadata": {},
          "output_type": "execute_result"
        }
      ],
      "source": [
        "np.sum(x) # sum of all elements"
      ]
    },
    {
      "cell_type": "code",
      "execution_count": null,
      "metadata": {
        "id": "mvDitVPgNqni",
        "outputId": "8be8b890-c281-450a-82d7-7affd366e240"
      },
      "outputs": [
        {
          "data": {
            "text/plain": [
              "array([4, 6])"
            ]
          },
          "execution_count": 67,
          "metadata": {},
          "output_type": "execute_result"
        }
      ],
      "source": [
        "np.sum(x, axis=0)  # compute the sum of each column"
      ]
    },
    {
      "cell_type": "code",
      "execution_count": null,
      "metadata": {
        "id": "iX52YXIRNqni",
        "outputId": "cee0d5b7-fe3f-437c-dae3-add78116c2f3"
      },
      "outputs": [
        {
          "data": {
            "text/plain": [
              "array([3, 7])"
            ]
          },
          "execution_count": 68,
          "metadata": {},
          "output_type": "execute_result"
        }
      ],
      "source": [
        "np.sum(x, axis=1) # compute the sum of each row"
      ]
    },
    {
      "cell_type": "code",
      "execution_count": null,
      "metadata": {
        "id": "zihM7ieLNqnj",
        "outputId": "371488b4-c0ef-4a5b-e562-eefaa2ccab7c"
      },
      "outputs": [
        {
          "data": {
            "text/plain": [
              "array([[-2. ,  1. ],\n",
              "       [ 1.5, -0.5]])"
            ]
          },
          "execution_count": 70,
          "metadata": {},
          "output_type": "execute_result"
        }
      ],
      "source": [
        "np.linalg.inv(x) # inverse of matrix x"
      ]
    },
    {
      "cell_type": "markdown",
      "metadata": {
        "id": "-L55XWP6Nqnj"
      },
      "source": [
        "## Matplotlib\n",
        "\n",
        "Matplotlib is a plotting library which provides a plotting system similar to MATLAB."
      ]
    },
    {
      "cell_type": "code",
      "execution_count": null,
      "metadata": {
        "id": "2ehYle6uNqnj",
        "outputId": "dd5146ea-7f65-4f6f-f172-65a388b9272f"
      },
      "outputs": [
        {
          "data": {
            "image/png": "[encoded data removed]",
            "text/plain": [
              "<Figure size 432x288 with 1 Axes>"
            ]
          },
          "metadata": {
            "needs_background": "light"
          },
          "output_type": "display_data"
        }
      ],
      "source": [
        "import numpy as np\n",
        "import matplotlib.pyplot as plt\n",
        "\n",
        "x = np.arange(0, 5 * np.pi, 0.1) # 0:0.1:5*pi\n",
        "y = np.sin(x)\n",
        "\n",
        "plt.plot(x, y)\n",
        "plt.show()"
      ]
    },
    {
      "cell_type": "markdown",
      "metadata": {
        "id": "O1vfDPEcNqnj"
      },
      "source": [
        "with more curves"
      ]
    },
    {
      "cell_type": "code",
      "execution_count": null,
      "metadata": {
        "id": "rppQXtSNNqnk",
        "outputId": "1e4ae48c-59d7-4c4c-d674-8f5ee51dca7a"
      },
      "outputs": [
        {
          "data": {
            "image/png": "[encoded data removed]",
            "text/plain": [
              "<Figure size 432x288 with 1 Axes>"
            ]
          },
          "metadata": {
            "needs_background": "light"
          },
          "output_type": "display_data"
        }
      ],
      "source": [
        "x = np.arange(0, 5 * np.pi, 0.1) # 0:0.1:5*pi\n",
        "y1 = np.sin(x)\n",
        "y2 = np.cos(x)\n",
        "\n",
        "plt.plot(x, y1, label=\"sine curve\")\n",
        "plt.plot(x, y2, label=\"cosine curve\")\n",
        "plt.xlabel(\"x axis\")\n",
        "plt.ylabel(\"y axis\")\n",
        "plt.title(\"Sine and Cosine\")\n",
        "plt.legend() # show legend\n",
        "plt.show()"
      ]
    },
    {
      "cell_type": "code",
      "execution_count": null,
      "metadata": {
        "id": "DUihSda_Nqnk",
        "outputId": "cb0beee7-2a8e-4016-d5ea-5bd98f339a41"
      },
      "outputs": [
        {
          "data": {
            "image/png": "[encoded data removed]",
            "text/plain": [
              "<Figure size 432x288 with 2 Axes>"
            ]
          },
          "metadata": {
            "needs_background": "light"
          },
          "output_type": "display_data"
        }
      ],
      "source": [
        "# subplots\n",
        "\n",
        "# Compute the x and y coordinates for points on sine and cosine curves\n",
        "x = np.arange(0, 3 * np.pi, 0.1)\n",
        "y_sin = np.sin(x)\n",
        "y_cos = np.cos(x)\n",
        "\n",
        "# Set up a subplot grid that has height 2 and width 1,\n",
        "# and set the first such subplot as active.\n",
        "plt.subplot(2, 1, 1)\n",
        "\n",
        "# Make the first plot\n",
        "plt.plot(x, y_sin)\n",
        "plt.title('Sine')\n",
        "\n",
        "# Set the second subplot as active, and make the second plot.\n",
        "plt.subplot(2, 1, 2)\n",
        "plt.plot(x, y_cos)\n",
        "plt.title('Cosine')\n",
        "\n",
        "# Show the figure.\n",
        "plt.show()\n"
      ]
    },
    {
      "cell_type": "code",
      "execution_count": null,
      "metadata": {
        "id": "pNCE9AOJNqnk"
      },
      "outputs": [],
      "source": [
        ""
      ]
    }
  ],
  "metadata": {
    "kernelspec": {
      "display_name": "Python 3",
      "language": "python",
      "name": "python3"
    },
    "language_info": {
      "codemirror_mode": {
        "name": "ipython",
        "version": 3
      },
      "file_extension": ".py",
      "mimetype": "text/x-python",
      "name": "python",
      "nbconvert_exporter": "python",
      "pygments_lexer": "ipython3",
      "version": "3.8.5"
    },
    "colab": {
      "name": "Lecture0 - Introduct to numpy.ipynb",
      "provenance": [],
      "include_colab_link": true
    }
  },
  "nbformat": 4,
  "nbformat_minor": 0
}